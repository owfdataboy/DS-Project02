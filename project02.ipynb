{
 "cells": [
  {
   "cell_type": "markdown",
   "metadata": {},
   "source": [
    "# <center>Đồ án 02 - Phân Tích Dữ Liệu</center>"
   ]
  },
  {
   "cell_type": "markdown",
   "metadata": {},
   "source": [
    "## Mục lục\n",
    "* [Bảng phân công công viêc](#c1)\n",
    "* [Cách chạy Project](#c2)\n",
    "* [Nội dung](#c3)\n",
    "    * [Mong đợi những gì ở dữ liệu ?](#c31)\n",
    "    * [Danh sách kiểm tra phân tích dữ liệu](#c32)\n",
    "    * [Trả lời những câu hỏi về bộ dữ liệu](#c33)    \n",
    "    * [Xóa dữ liệu](#c34)\n",
    "        * [Dữ liệu có bị thiếu ?](#c341)\n",
    "        * [Kiểu dữ liệu](#c342)\n",
    "        * [Kiểm tra ngoại lệ](#c343)\n",
    "        * [Tiền xử lý dữ liệu](#c344)\n",
    "    * [Phân tích khám phá](#c35)\n",
    "        * [Trực quan hoá mối quan hệ đơn biến](#c351)\n",
    "            * [Line chart](#c3511)\n",
    "            * [Histogram](#c3512)            \n",
    "            * [Distplot](#c3513)\n",
    "            * [Boxplot](#c3514)\n",
    "        * [Trực quan hoá mối quan hệ đa biến](#c352)\n",
    "            * [Correlation matrix ](#c3521)\n",
    "            * [Scatterplot](#c3522)\n",
    "            * [Pie chart và Bar chart](#c3523)\n",
    "            * [Jointplot](#c3524)\n",
    "            * [Kde plot](#c3525)\n",
    "* [Nguồn tham khảo](#c4)"
   ]
  },
  {
   "cell_type": "markdown",
   "metadata": {},
   "source": [
    "## BẢNG PHÂN CÔNG CÔNG VIỆC <a class=\"anchor\" id=\"c1\"></a>\n",
    "\n",
    "STT&emsp;&emsp;&emsp;&emsp;&emsp;&emsp;Thông tin sinh viên&emsp;&emsp;&emsp;&emsp;&emsp;&emsp;&emsp;&emsp;&emsp;&emsp;Mức độ hoàn thành&emsp;&emsp;&emsp;&emsp;&emsp;&emsp;&emsp;Công việc\n",
    "<br>\n",
    "1&emsp;&emsp;&emsp;&emsp;&emsp;&emsp;&ensp;&ensp;&nbsp;Nguyễn Đăng Thi-19127276&emsp;&emsp;&emsp;&emsp;&emsp;&nbsp;&nbsp;&nbsp;100%&emsp;&emsp;&emsp;&emsp;&emsp;&emsp;&emsp;&nbsp;&nbsp;&nbsp;&ensp;Scatterplot, Pie chart, Bar chart\n",
    "<br>\n",
    "2&emsp;&emsp;&emsp;&emsp;&emsp;&emsp;&emsp;&nbsp;Lê Minh Trí-19127592&emsp;&emsp;&emsp;&emsp;&emsp;&emsp;&emsp;&emsp;&ensp;100%&emsp;&emsp;&emsp;&emsp;&emsp;&emsp;&emsp;&nbsp;&nbsp;&nbsp;&ensp;Histogram, Distplot\n",
    "<br>\n",
    "3&emsp;&emsp;&emsp;&emsp;&emsp;&emsp;&emsp;&nbsp;Phan Vĩ Giai-19127639&emsp;&emsp;&emsp;&emsp;&emsp;&emsp;&emsp;&emsp;100%&emsp;&emsp;&emsp;&emsp;&emsp;&emsp;&emsp;&nbsp;&nbsp;&nbsp;&ensp;Xóa dữ liệu, Boxplot, Correlation Matrix, Jointplot, Kde plot\n",
    "<br>\n",
    "4&emsp;&emsp;&emsp;&emsp;&emsp;&emsp;&emsp;&nbsp;Võ Nhất Huy-19127642&emsp;&emsp;&emsp;&emsp;&emsp;&emsp;&emsp;&ensp;&nbsp;&nbsp;100%&emsp;&emsp;&emsp;&emsp;&emsp;&emsp;&emsp;&nbsp;&nbsp;&nbsp;&ensp;Trả lời câu hỏi về dữ liệu, Line chart"
   ]
  },
  {
   "cell_type": "markdown",
   "metadata": {},
   "source": [
    "## CÁCH CHẠY PROJECT <a class=\"anchor\" id=\"c2\"></a>\n",
    "**Chọn Kernel -> Restart & Run All**"
   ]
  },
  {
   "cell_type": "markdown",
   "metadata": {},
   "source": [
    "## Nội dung <a class=\"anchor\" id=\"c3\"></a>"
   ]
  },
  {
   "cell_type": "code",
   "execution_count": 1,
   "metadata": {},
   "outputs": [],
   "source": [
    "%matplotlib inline\n",
    "import datetime\n",
    "import math\n",
    "import numpy as np\n",
    "import pandas as pd\n",
    "import seaborn as sns\n",
    "import matplotlib.pyplot as plt"
   ]
  },
  {
   "cell_type": "code",
   "execution_count": 2,
   "metadata": {},
   "outputs": [],
   "source": [
    "playlists_file = './Api_data/playlists.csv'\n",
    "tracks_file = './Api_data/tracks.csv'\n",
    "users_file = './Api_data/users.csv'"
   ]
  },
  {
   "cell_type": "markdown",
   "metadata": {},
   "source": [
    "<strong>Biến toàn cục</strong>\n",
    "<br>\n",
    "Đọc dữ liệu dưới dạng DataFrame"
   ]
  },
  {
   "cell_type": "code",
   "execution_count": 3,
   "metadata": {},
   "outputs": [],
   "source": [
    "df_playlists = pd.read_csv(playlists_file, delimiter='\\t')\n",
    "df_tracks = pd.read_csv(tracks_file, delimiter='\\t')\n",
    "df_users= pd.read_csv(users_file, delimiter='\\t')"
   ]
  },
  {
   "cell_type": "markdown",
   "metadata": {},
   "source": [
    "### Mong đợi những gì ở dữ liệu ? <a class=\"anchor\" id=\"c31\"></a>"
   ]
  },
  {
   "cell_type": "markdown",
   "metadata": {},
   "source": [
    "Trước hết chúng ta đã xác định được rằng dữ liệu được sử dụng là lấy từ API data. Điều này có nghĩa là bộ dữ liệu thu thập được tương đối đầy đủ về các trường dữ liệu, cũng như về số lượng mẫu."
   ]
  },
  {
   "cell_type": "markdown",
   "metadata": {},
   "source": [
    "## Tập dữ liệu về User \n",
    "\n",
    "Kết quả trường dữ liệu ta thu thập được gồm các trường với ý nghĩa sau:\n",
    "- **id**: Định danh cho từng user\n",
    "- **username**: Tên của user đặt trong hệ thống\n",
    "- **full_name**: Tên đầy đủ của user\n",
    "- **playlist_count**: Số playlists mà user đang sỡ hữu\n",
    "- **track_count**: Số tracks mà user đang sỡ hữu\n",
    "- **followers_count**: Sô người follow user\n",
    "- **followings_count**: Số người user đang follow\n",
    "- **likes_count**: Số yêu thích bài hát\n",
    "- **comments_count**: Sô bình luận\n",
    "- **playlist_likes_count**: Số yêu thích playlist\n",
    "- **created_at**: Thời gian tạo tài khoản"
   ]
  },
  {
   "cell_type": "code",
   "execution_count": 85,
   "metadata": {},
   "outputs": [
    {
     "data": {
      "text/html": [
       "<div>\n",
       "<style scoped>\n",
       "    .dataframe tbody tr th:only-of-type {\n",
       "        vertical-align: middle;\n",
       "    }\n",
       "\n",
       "    .dataframe tbody tr th {\n",
       "        vertical-align: top;\n",
       "    }\n",
       "\n",
       "    .dataframe thead th {\n",
       "        text-align: right;\n",
       "    }\n",
       "</style>\n",
       "<table border=\"1\" class=\"dataframe\">\n",
       "  <thead>\n",
       "    <tr style=\"text-align: right;\">\n",
       "      <th></th>\n",
       "      <th>id</th>\n",
       "      <th>playlist_count</th>\n",
       "      <th>track_count</th>\n",
       "      <th>followers_count</th>\n",
       "      <th>followings_count</th>\n",
       "      <th>groups_count</th>\n",
       "      <th>likes_count</th>\n",
       "      <th>comments_count</th>\n",
       "      <th>playlist_likes_count</th>\n",
       "    </tr>\n",
       "  </thead>\n",
       "  <tbody>\n",
       "    <tr>\n",
       "      <th>count</th>\n",
       "      <td>1763.000000</td>\n",
       "      <td>1763.000000</td>\n",
       "      <td>1763.000000</td>\n",
       "      <td>1763.000000</td>\n",
       "      <td>1763.000000</td>\n",
       "      <td>1763.0</td>\n",
       "      <td>1763.000000</td>\n",
       "      <td>1763.000000</td>\n",
       "      <td>1763.000000</td>\n",
       "    </tr>\n",
       "    <tr>\n",
       "      <th>mean</th>\n",
       "      <td>999.842314</td>\n",
       "      <td>4.319342</td>\n",
       "      <td>28.696540</td>\n",
       "      <td>6461.431083</td>\n",
       "      <td>190.567782</td>\n",
       "      <td>0.0</td>\n",
       "      <td>113.191719</td>\n",
       "      <td>61.968803</td>\n",
       "      <td>7.924560</td>\n",
       "    </tr>\n",
       "    <tr>\n",
       "      <th>std</th>\n",
       "      <td>572.289867</td>\n",
       "      <td>15.918407</td>\n",
       "      <td>105.646087</td>\n",
       "      <td>34896.804045</td>\n",
       "      <td>359.937296</td>\n",
       "      <td>0.0</td>\n",
       "      <td>462.296781</td>\n",
       "      <td>392.917892</td>\n",
       "      <td>33.913014</td>\n",
       "    </tr>\n",
       "    <tr>\n",
       "      <th>min</th>\n",
       "      <td>1.000000</td>\n",
       "      <td>0.000000</td>\n",
       "      <td>0.000000</td>\n",
       "      <td>0.000000</td>\n",
       "      <td>0.000000</td>\n",
       "      <td>0.0</td>\n",
       "      <td>0.000000</td>\n",
       "      <td>0.000000</td>\n",
       "      <td>0.000000</td>\n",
       "    </tr>\n",
       "    <tr>\n",
       "      <th>25%</th>\n",
       "      <td>505.500000</td>\n",
       "      <td>0.000000</td>\n",
       "      <td>0.000000</td>\n",
       "      <td>40.000000</td>\n",
       "      <td>6.000000</td>\n",
       "      <td>0.0</td>\n",
       "      <td>0.000000</td>\n",
       "      <td>0.000000</td>\n",
       "      <td>0.000000</td>\n",
       "    </tr>\n",
       "    <tr>\n",
       "      <th>50%</th>\n",
       "      <td>1003.000000</td>\n",
       "      <td>0.000000</td>\n",
       "      <td>3.000000</td>\n",
       "      <td>197.000000</td>\n",
       "      <td>39.000000</td>\n",
       "      <td>0.0</td>\n",
       "      <td>10.000000</td>\n",
       "      <td>3.000000</td>\n",
       "      <td>0.000000</td>\n",
       "    </tr>\n",
       "    <tr>\n",
       "      <th>75%</th>\n",
       "      <td>1496.500000</td>\n",
       "      <td>2.000000</td>\n",
       "      <td>17.000000</td>\n",
       "      <td>1499.000000</td>\n",
       "      <td>204.500000</td>\n",
       "      <td>0.0</td>\n",
       "      <td>76.500000</td>\n",
       "      <td>35.000000</td>\n",
       "      <td>4.000000</td>\n",
       "    </tr>\n",
       "    <tr>\n",
       "      <th>max</th>\n",
       "      <td>1989.000000</td>\n",
       "      <td>353.000000</td>\n",
       "      <td>1644.000000</td>\n",
       "      <td>774065.000000</td>\n",
       "      <td>2010.000000</td>\n",
       "      <td>0.0</td>\n",
       "      <td>13606.000000</td>\n",
       "      <td>14872.000000</td>\n",
       "      <td>715.000000</td>\n",
       "    </tr>\n",
       "  </tbody>\n",
       "</table>\n",
       "</div>"
      ],
      "text/plain": [
       "                id  playlist_count  track_count  followers_count  \\\n",
       "count  1763.000000     1763.000000  1763.000000      1763.000000   \n",
       "mean    999.842314        4.319342    28.696540      6461.431083   \n",
       "std     572.289867       15.918407   105.646087     34896.804045   \n",
       "min       1.000000        0.000000     0.000000         0.000000   \n",
       "25%     505.500000        0.000000     0.000000        40.000000   \n",
       "50%    1003.000000        0.000000     3.000000       197.000000   \n",
       "75%    1496.500000        2.000000    17.000000      1499.000000   \n",
       "max    1989.000000      353.000000  1644.000000    774065.000000   \n",
       "\n",
       "       followings_count  groups_count   likes_count  comments_count  \\\n",
       "count       1763.000000        1763.0   1763.000000     1763.000000   \n",
       "mean         190.567782           0.0    113.191719       61.968803   \n",
       "std          359.937296           0.0    462.296781      392.917892   \n",
       "min            0.000000           0.0      0.000000        0.000000   \n",
       "25%            6.000000           0.0      0.000000        0.000000   \n",
       "50%           39.000000           0.0     10.000000        3.000000   \n",
       "75%          204.500000           0.0     76.500000       35.000000   \n",
       "max         2010.000000           0.0  13606.000000    14872.000000   \n",
       "\n",
       "       playlist_likes_count  \n",
       "count           1763.000000  \n",
       "mean               7.924560  \n",
       "std               33.913014  \n",
       "min                0.000000  \n",
       "25%                0.000000  \n",
       "50%                0.000000  \n",
       "75%                4.000000  \n",
       "max              715.000000  "
      ]
     },
     "execution_count": 85,
     "metadata": {},
     "output_type": "execute_result"
    }
   ],
   "source": [
    "df_users.describe()"
   ]
  },
  {
   "cell_type": "markdown",
   "metadata": {},
   "source": [
    "#### Sự phân bố của một số trường :\n",
    "- **id**: dạng số nguyên , nằm trong khoản từ (1,2000)\n",
    "- **username**: chuỗi bất kì\n",
    "- **full_name**: chuỗi bất kì\n",
    "- **playlist_count**: dạng số nguyên , nằm trong khoản từ (0,400)\n",
    "- **track_count**: dạng số nguyên , nằm trong khoản từ (0,2000)\n",
    "- **followers_count**: dạng số nguyên , nằm trong khoản từ (0,100000)\n",
    "- **followings_count**: dạng số nguyên , nằm trong khoản từ (0,2000)\n",
    "- **likes_count**: dạng số nguyên , nằm trong khoản từ (0,15000)\n",
    "- **comments_count**: dạng số nguyên , nằm trong khoản từ (0,15000)\n",
    "- **playlist_likes_count**: dạng số nguyên , nằm trong khoản từ (0,1000)\n",
    "- **created_at**: chuỗi kí tự biểu thị thời điểm\n",
    "\n",
    "#### Mối liên hệ có thể có của các trường:\n",
    "- **playlist_count, track_count,followers_count** : Số playlist của một user càng nhiều sẽ kéo theo số track sơ hữu càng nhiều và được nhiều user khác theo dỗi ( followers_count) và ngược lại\n",
    "- **followings_count,likes_count,comments_count,playlist_likes_count** : Nếu một user theo dõi nhiều user khác , số lượt like và comment của user đó có thể cao và ngược lại\n",
    "- **created_at,playlist_count, track_count** : Tài khoản user được tạo càng lâu thì số lượng playlist và track sẽ càng lớn và ngược lại\n",
    "\n",
    "\n"
   ]
  },
  {
   "cell_type": "markdown",
   "metadata": {},
   "source": [
    "## Tập dữ liệu về playlist \n",
    "\n",
    "Kết quả trường dữ liệu ta thu thập được gồm các trường chính với ý nghĩa sau:\n",
    "- **id**: Định danh cho từng user\n",
    "- **user_id**: ID của user tạo playlist\n",
    "- **title** : Tên của playlist\n",
    "- **created_at** : Thời điểm playlist được tạo\n",
    "- **likes_count** : Số lượng like của playlists\n",
    "- **reposts_count** : Số lượng playlist được share ở nơi khác"
   ]
  },
  {
   "cell_type": "code",
   "execution_count": 91,
   "metadata": {},
   "outputs": [
    {
     "data": {
      "text/html": [
       "<div>\n",
       "<style scoped>\n",
       "    .dataframe tbody tr th:only-of-type {\n",
       "        vertical-align: middle;\n",
       "    }\n",
       "\n",
       "    .dataframe tbody tr th {\n",
       "        vertical-align: top;\n",
       "    }\n",
       "\n",
       "    .dataframe thead th {\n",
       "        text-align: right;\n",
       "    }\n",
       "</style>\n",
       "<table border=\"1\" class=\"dataframe\">\n",
       "  <thead>\n",
       "    <tr style=\"text-align: right;\">\n",
       "      <th></th>\n",
       "      <th>id</th>\n",
       "      <th>user_id</th>\n",
       "      <th>likes_count</th>\n",
       "      <th>reposts_count</th>\n",
       "    </tr>\n",
       "  </thead>\n",
       "  <tbody>\n",
       "    <tr>\n",
       "      <th>count</th>\n",
       "      <td>2.175000e+03</td>\n",
       "      <td>2175.000000</td>\n",
       "      <td>2175.000000</td>\n",
       "      <td>2175.000000</td>\n",
       "    </tr>\n",
       "    <tr>\n",
       "      <th>mean</th>\n",
       "      <td>4.224452e+08</td>\n",
       "      <td>959.353103</td>\n",
       "      <td>43.634023</td>\n",
       "      <td>7.262069</td>\n",
       "    </tr>\n",
       "    <tr>\n",
       "      <th>std</th>\n",
       "      <td>4.887847e+08</td>\n",
       "      <td>576.954016</td>\n",
       "      <td>386.822913</td>\n",
       "      <td>68.394826</td>\n",
       "    </tr>\n",
       "    <tr>\n",
       "      <th>min</th>\n",
       "      <td>1.800000e+01</td>\n",
       "      <td>7.000000</td>\n",
       "      <td>0.000000</td>\n",
       "      <td>0.000000</td>\n",
       "    </tr>\n",
       "    <tr>\n",
       "      <th>25%</th>\n",
       "      <td>3.812238e+06</td>\n",
       "      <td>444.000000</td>\n",
       "      <td>0.000000</td>\n",
       "      <td>0.000000</td>\n",
       "    </tr>\n",
       "    <tr>\n",
       "      <th>50%</th>\n",
       "      <td>1.623832e+08</td>\n",
       "      <td>934.000000</td>\n",
       "      <td>3.000000</td>\n",
       "      <td>0.000000</td>\n",
       "    </tr>\n",
       "    <tr>\n",
       "      <th>75%</th>\n",
       "      <td>9.335467e+08</td>\n",
       "      <td>1405.500000</td>\n",
       "      <td>14.000000</td>\n",
       "      <td>2.000000</td>\n",
       "    </tr>\n",
       "    <tr>\n",
       "      <th>max</th>\n",
       "      <td>1.344329e+09</td>\n",
       "      <td>1979.000000</td>\n",
       "      <td>10208.000000</td>\n",
       "      <td>2180.000000</td>\n",
       "    </tr>\n",
       "  </tbody>\n",
       "</table>\n",
       "</div>"
      ],
      "text/plain": [
       "                 id      user_id   likes_count  reposts_count\n",
       "count  2.175000e+03  2175.000000   2175.000000    2175.000000\n",
       "mean   4.224452e+08   959.353103     43.634023       7.262069\n",
       "std    4.887847e+08   576.954016    386.822913      68.394826\n",
       "min    1.800000e+01     7.000000      0.000000       0.000000\n",
       "25%    3.812238e+06   444.000000      0.000000       0.000000\n",
       "50%    1.623832e+08   934.000000      3.000000       0.000000\n",
       "75%    9.335467e+08  1405.500000     14.000000       2.000000\n",
       "max    1.344329e+09  1979.000000  10208.000000    2180.000000"
      ]
     },
     "execution_count": 91,
     "metadata": {},
     "output_type": "execute_result"
    }
   ],
   "source": [
    "df_playlists.describe()"
   ]
  },
  {
   "cell_type": "markdown",
   "metadata": {},
   "source": [
    "#### Sự phân bố của một số trường :\n",
    "- **id**: dạng số nguyên có 10 chứ số, nằm trong khoản từ ( 1000000000 , 9999999999)\n",
    "- **user_id**: dạng số nguyên , nằm trong khoản từ (1,2000)\n",
    "- **title** : Chuỗi bất kì\n",
    "- **created_at** : chuỗi kí tự biểu thị thời điểm\n",
    "- **likes_count** :dạng số nguyên , nằm trong khoản từ (0,103000)\n",
    "- **reposts_count** : dạng số nguyên , nằm trong khoản từ (0,2200)\n",
    "\n",
    "#### Mối liên hệ có thể có của các trường:\n",
    "- **created_at**, **likes_count** ,**reposts_count** : Playlist được tạo càng lâu thì số lượt like và số lượng repost càng lớn và ngược lại\n",
    "\n"
   ]
  },
  {
   "cell_type": "markdown",
   "metadata": {},
   "source": [
    "## Tập dữ liệu về track\n",
    "\n",
    "Kết quả trường dữ liệu ta thu thập được gồm các trường chính với ý nghĩa sau:\n",
    "- **id** : ID của track\n",
    "- **user_id** : ID của user upload track\n",
    "- **title** :Tiêu đề của track\n",
    "- **comment_count** : Số lượng comment dành cho track\n",
    "- **created_at** : Thởi điểm tạo track\n",
    "- **duration** : Độ dài của track\n",
    "- **genre** : Thể loại của track\n",
    "- **likes_count** :Số lượng like của track\n",
    "- **playback_count**: Tổng của số phát của trackdf_playlists.describe()\n",
    "- **reposts_count** : Sô lần track được chia sẻ ở nơi khác\n"
   ]
  },
  {
   "cell_type": "code",
   "execution_count": 90,
   "metadata": {},
   "outputs": [
    {
     "data": {
      "text/html": [
       "<div>\n",
       "<style scoped>\n",
       "    .dataframe tbody tr th:only-of-type {\n",
       "        vertical-align: middle;\n",
       "    }\n",
       "\n",
       "    .dataframe tbody tr th {\n",
       "        vertical-align: top;\n",
       "    }\n",
       "\n",
       "    .dataframe thead th {\n",
       "        text-align: right;\n",
       "    }\n",
       "</style>\n",
       "<table border=\"1\" class=\"dataframe\">\n",
       "  <thead>\n",
       "    <tr style=\"text-align: right;\">\n",
       "      <th></th>\n",
       "      <th>id</th>\n",
       "      <th>user_id</th>\n",
       "      <th>comment_count</th>\n",
       "      <th>duration</th>\n",
       "      <th>likes_count</th>\n",
       "      <th>playback_count</th>\n",
       "      <th>reposts_count</th>\n",
       "    </tr>\n",
       "  </thead>\n",
       "  <tbody>\n",
       "    <tr>\n",
       "      <th>count</th>\n",
       "      <td>1.085400e+04</td>\n",
       "      <td>1.085400e+04</td>\n",
       "      <td>10854.000000</td>\n",
       "      <td>1.085400e+04</td>\n",
       "      <td>1.085400e+04</td>\n",
       "      <td>1.085400e+04</td>\n",
       "      <td>10854.000000</td>\n",
       "    </tr>\n",
       "    <tr>\n",
       "      <th>mean</th>\n",
       "      <td>3.831127e+08</td>\n",
       "      <td>3.064872e+07</td>\n",
       "      <td>72.927769</td>\n",
       "      <td>1.335312e+06</td>\n",
       "      <td>4.249719e+03</td>\n",
       "      <td>2.737333e+05</td>\n",
       "      <td>553.005252</td>\n",
       "    </tr>\n",
       "    <tr>\n",
       "      <th>std</th>\n",
       "      <td>3.457902e+08</td>\n",
       "      <td>1.054995e+08</td>\n",
       "      <td>624.002162</td>\n",
       "      <td>2.383688e+06</td>\n",
       "      <td>5.325853e+04</td>\n",
       "      <td>3.990088e+06</td>\n",
       "      <td>5743.692065</td>\n",
       "    </tr>\n",
       "    <tr>\n",
       "      <th>min</th>\n",
       "      <td>1.480000e+02</td>\n",
       "      <td>6.900000e+01</td>\n",
       "      <td>0.000000</td>\n",
       "      <td>0.000000e+00</td>\n",
       "      <td>0.000000e+00</td>\n",
       "      <td>0.000000e+00</td>\n",
       "      <td>0.000000</td>\n",
       "    </tr>\n",
       "    <tr>\n",
       "      <th>25%</th>\n",
       "      <td>1.060627e+08</td>\n",
       "      <td>8.270000e+02</td>\n",
       "      <td>0.000000</td>\n",
       "      <td>1.793268e+05</td>\n",
       "      <td>3.000000e+00</td>\n",
       "      <td>1.652500e+02</td>\n",
       "      <td>0.000000</td>\n",
       "    </tr>\n",
       "    <tr>\n",
       "      <th>50%</th>\n",
       "      <td>2.576212e+08</td>\n",
       "      <td>1.610000e+03</td>\n",
       "      <td>3.000000</td>\n",
       "      <td>3.279380e+05</td>\n",
       "      <td>3.200000e+01</td>\n",
       "      <td>1.507000e+03</td>\n",
       "      <td>3.000000</td>\n",
       "    </tr>\n",
       "    <tr>\n",
       "      <th>75%</th>\n",
       "      <td>6.556799e+08</td>\n",
       "      <td>1.819173e+06</td>\n",
       "      <td>21.000000</td>\n",
       "      <td>5.921395e+05</td>\n",
       "      <td>3.787500e+02</td>\n",
       "      <td>1.357050e+04</td>\n",
       "      <td>50.000000</td>\n",
       "    </tr>\n",
       "    <tr>\n",
       "      <th>max</th>\n",
       "      <td>1.156896e+09</td>\n",
       "      <td>1.005166e+09</td>\n",
       "      <td>26780.000000</td>\n",
       "      <td>2.411383e+07</td>\n",
       "      <td>3.056109e+06</td>\n",
       "      <td>2.210469e+08</td>\n",
       "      <td>296096.000000</td>\n",
       "    </tr>\n",
       "  </tbody>\n",
       "</table>\n",
       "</div>"
      ],
      "text/plain": [
       "                 id       user_id  comment_count      duration   likes_count  \\\n",
       "count  1.085400e+04  1.085400e+04   10854.000000  1.085400e+04  1.085400e+04   \n",
       "mean   3.831127e+08  3.064872e+07      72.927769  1.335312e+06  4.249719e+03   \n",
       "std    3.457902e+08  1.054995e+08     624.002162  2.383688e+06  5.325853e+04   \n",
       "min    1.480000e+02  6.900000e+01       0.000000  0.000000e+00  0.000000e+00   \n",
       "25%    1.060627e+08  8.270000e+02       0.000000  1.793268e+05  3.000000e+00   \n",
       "50%    2.576212e+08  1.610000e+03       3.000000  3.279380e+05  3.200000e+01   \n",
       "75%    6.556799e+08  1.819173e+06      21.000000  5.921395e+05  3.787500e+02   \n",
       "max    1.156896e+09  1.005166e+09   26780.000000  2.411383e+07  3.056109e+06   \n",
       "\n",
       "       playback_count  reposts_count  \n",
       "count    1.085400e+04   10854.000000  \n",
       "mean     2.737333e+05     553.005252  \n",
       "std      3.990088e+06    5743.692065  \n",
       "min      0.000000e+00       0.000000  \n",
       "25%      1.652500e+02       0.000000  \n",
       "50%      1.507000e+03       3.000000  \n",
       "75%      1.357050e+04      50.000000  \n",
       "max      2.210469e+08  296096.000000  "
      ]
     },
     "execution_count": 90,
     "metadata": {},
     "output_type": "execute_result"
    }
   ],
   "source": [
    "df_tracks.describe()"
   ]
  },
  {
   "cell_type": "markdown",
   "metadata": {},
   "source": [
    "#### Sự phân bố của một số trường :\n",
    "\n",
    "- **id** : dạng số nguyên có 10 chứ số, nằm trong khoản từ ( 1000000000 , 9999999999)\n",
    "- **user_id** : dạng số nguyên , nằm trong khoản từ (1,2000)\n",
    "- **title** :Chuỗi bất kì\n",
    "- **comment_count** : dạng số nguyên , nằm trong khoản từ (0,30000)\n",
    "- **created_at** : chuỗi kí tự biểu thị thời điểm\n",
    "- **duration** : dạng số nguyên biểu thi thời gian đơn vị bằng giây, nằm trong khoản từ (0,10000000)\n",
    "- **genre** : Chuỗi bất kì \n",
    "- **likes_count** :dạng số nguyên , nằm trong khoản từ (0,3000000)\n",
    "- **playback_count**: dạng số nguyên , nằm trong khoản từ (0,2000000)\n",
    "- **reposts_count** : dạng số nguyên , nằm trong khoản từ (0,2000000)\n",
    "\n",
    "#### Mối liên hệ có thể có của các trường:\n",
    "- **comment_count**, **likes_count**,**playback_count**  : Số lượt like càng nhiều sẽ kéo theo số lượt comment càng lớn và được phát lại nhiều lần và ngược lại\n",
    "- **created_at** ,**comment_count**, **likes_count** ,**reposts_count** : Track được tạo ra càng lâu có thể có số lươt tương tác về like và comment càng lớn ,cũng như được repost ở nhiều nơi , và ngược lại"
   ]
  },
  {
   "cell_type": "markdown",
   "metadata": {},
   "source": [
    "\n",
    "Vậy với lượng dữ liệu tương đối đầy đủ và chất lượng như trên , ta có thể mong đợi tìm ra câu trả lời cho các câu hỏi :\n",
    "- Xu hướng nghe nhạc của người dùng?\n",
    "- Tỉ lệ của các thể loại nhạc trên soundcloud là bao nhiêu? thể loại nào đang chiếm xu thế?\n",
    "- Có bao nhiêu người dùng đóng góp cho cộng đồng trên soundcloud (tạo track/playlist)?\n",
    "- Có mối liên hệ nào giữa các trường dữ liệu (lượt nghe/like/share)?\n",
    "- Sự phát triển của soundcloud thể hiện như thế nào qua các mốc thời gian?\n",
    "- ..."
   ]
  },
  {
   "cell_type": "markdown",
   "metadata": {},
   "source": [
    "### Danh sách kiểm tra phân tích dữ liệu <a class=\"anchor\" id=\"c32\"></a>"
   ]
  },
  {
   "cell_type": "markdown",
   "metadata": {},
   "source": []
  },
  {
   "cell_type": "markdown",
   "metadata": {},
   "source": [
    "### Trả lời những câu hỏi về bộ dữ liệu <a class=\"anchor\" id=\"c33\"></a>"
   ]
  },
  {
   "cell_type": "code",
   "execution_count": null,
   "metadata": {},
   "outputs": [],
   "source": []
  },
  {
   "cell_type": "markdown",
   "metadata": {},
   "source": [
    "### Xóa dữ liệu <a class=\"anchor\" id=\"c34\"></a>"
   ]
  },
  {
   "cell_type": "markdown",
   "metadata": {},
   "source": [
    "- Phần này chúng ta sẽ tập trung trả lời các câu hỏi sau:\n",
    "    - Liệu dữ liệu chúng ta có bị thiếu ?\n",
    "    - Các kiểu dữ liệu của chúng ta có phù hợp cho việc khám phá phía sau không ?\n",
    "    - Nếu có thì các kiểu dữ liệu đó nên được xử lý như thế nào ?\n",
    "    - Liệu tập dữ liệu với các trường hiện tại có đủ để trực quan ? Có cần tổng hợp nhiều trường khác nhau lại không ?\n",
    "    - ...\n",
    "- Đó là những câu hỏi đầu tiên mà chúng ta phải trả lời, phải giải quyết được các mối quan tâm phía trên. Nó là phần quan trọng để chúng ta có thể tiến hành trực quan hóa và khám phá dữ liệu ở bước tiếp theo"
   ]
  },
  {
   "cell_type": "code",
   "execution_count": 5,
   "metadata": {},
   "outputs": [],
   "source": [
    "def get_object(file_name):\n",
    "    df = pd.read_csv(file_name, delimiter='\\t')\n",
    "    obj = {}\n",
    "    for column in df.columns:\n",
    "        obj.setdefault(column, df[column].values)\n",
    "    return obj"
   ]
  },
  {
   "cell_type": "code",
   "execution_count": 6,
   "metadata": {},
   "outputs": [],
   "source": [
    "def get_object_formatted(cols):\n",
    "    formatted_obj = {}\n",
    "    for key in cols.keys():\n",
    "        col_values = cols[key]\n",
    "        missing_values = [x for x in col_values if x == '' or (not isinstance(x, str) and math.isnan(x))]\n",
    "        values = [x for x in col_values if x != '' and not (not isinstance(x, str) and math.isnan(x))]\n",
    "        formatted_obj[key] = [len(missing_values)/len(col_values) * 100, len(set(values)), set(values)]\n",
    "    return formatted_obj"
   ]
  },
  {
   "cell_type": "code",
   "execution_count": 7,
   "metadata": {},
   "outputs": [],
   "source": [
    "def print_info(obj):\n",
    "    print(f\"{'ColName':20} {'Miss(%)':7} {'NumDifVals':10} {'SomeVals'}\")\n",
    "    for col_name, col_profile in obj.items():\n",
    "        print(f'{col_name:20} {col_profile[0]:<7.3f} {col_profile[1]:<10} {col_profile[2].__repr__()[:34]+\"...\":<}')"
   ]
  },
  {
   "cell_type": "markdown",
   "metadata": {},
   "source": [
    "### Dữ liệu có bị thiếu ? <a class=\"anchor\" id=\"c341\"></a>"
   ]
  },
  {
   "cell_type": "markdown",
   "metadata": {},
   "source": [
    "- Tạo object mới cho việc kiểm tra dữ liệu"
   ]
  },
  {
   "cell_type": "code",
   "execution_count": 8,
   "metadata": {},
   "outputs": [],
   "source": [
    "playlists_obj = get_object_formatted(get_object(playlists_file))\n",
    "tracks_obj = get_object_formatted(get_object(tracks_file))\n",
    "users_obj = get_object_formatted(get_object(users_file))"
   ]
  },
  {
   "cell_type": "code",
   "execution_count": 9,
   "metadata": {
    "scrolled": true
   },
   "outputs": [
    {
     "name": "stdout",
     "output_type": "stream",
     "text": [
      "ColName              Miss(%) NumDifVals SomeVals\n",
      "id                   0.000   2175       {52264968, 729101, 39485458, 10671...\n",
      "user_id              0.000   632        {7, 9, 11, 16, 17, 20, 21, 24, 25,...\n",
      "title                0.000   2082       {'WDGW', 'Sunrise', 'Dont let me d...\n",
      "created_at           0.000   2175       {'2009-10-29T04:29:50Z', '2008-06-...\n",
      "last_modified        0.000   2138       {'2016-02-03T20:16:27Z', '2015-10-...\n",
      "license              0.000   6          {'cc-by-nc-nd', 'cc-by-nc', 'cc-by...\n",
      "likes_count          0.000   194        {0, 1, 2, 3, 4, 5, 6, 7, 8, 9, 10,...\n",
      "permalink_url        0.000   2175       {'https://soundcloud.com/boomjinx/...\n",
      "public               0.000   1          {True}...\n",
      "purchase_url         1.195   428        {'https://lnk.to/SecretWorldSN', '...\n",
      "reposts_count        0.000   75         {0, 1, 2, 3, 4, 5, 6, 7, 8, 9, 10,...\n",
      "secret_token         0.000   1          {'None'}...\n",
      "sharing              0.000   1          {'public'}...\n",
      "tag_list             62.207  748        {\"90's Techno Dancefloor Nineties\"...\n",
      "uri                  0.000   2175       {'https://api.soundcloud.com/playl...\n",
      "set_type             67.402  4          {'single', 'compilation', 'ep', 'a...\n",
      "is_album             0.000   2          {False, True}...\n",
      "trackIds             7.908   1997       {'1121264314,1121264455', '8083524...\n"
     ]
    }
   ],
   "source": [
    "print_info(playlists_obj)"
   ]
  },
  {
   "cell_type": "markdown",
   "metadata": {},
   "source": [
    "**Dựa vào kết quả ở trên:**\n",
    "- Cột \"tag_list\", \"set_type\" có phần trăm thiếu khá lớn: 62.207% và 67.402%. Theo suy đoán, do \"tag_list\" là thẻ tag được gắn cho playlist và \"set_type\" là loại playlist nên cả 2 cột này khi người dùng tạo playlist mới là thuộc tính tùy chọn. Có thể họ có thể quên, bỏ sót những thuộc tính không quan trọng này.\n",
    "- Cột \"trackIds\" có phần trăm thiếu khoảng 7.908%. Con số này nói lên rằng, nhiều playlist được tạo nhưng không có track nào thuộc playlist đó.\n",
    "- Tất cả các cột còn lại có phần trăm thiếu bằng 0 hay cực kì nhỏ nên mọi thứ \"tốt đẹp\"."
   ]
  },
  {
   "cell_type": "code",
   "execution_count": 10,
   "metadata": {},
   "outputs": [
    {
     "name": "stdout",
     "output_type": "stream",
     "text": [
      "ColName              Miss(%) NumDifVals SomeVals\n",
      "id                   0.000   10242      {336297989, 44204041, 1140686857, ...\n",
      "user_id              0.000   2768       {336748548, 19554314, 7184394, 258...\n",
      "title                0.000   10190      {'Joris Delacroix - Meet Me At The...\n",
      "description          17.874  6040       {\"DCR548  – Drumcode Radio Live – ...\n",
      "track_format         0.000   1          {'single-track'}...\n",
      "uri                  0.000   10242      {'https://api.soundcloud.com/track...\n",
      "caption              0.000   132        {\"👨\\u200d🍳 Whats cookin' for Episo...\n",
      "comment_count        0.000   569        {'210', '103', '280', '300', '141'...\n",
      "created_at           0.000   9765       {'2016-04-06T19:21:48Z', '2013-07-...\n",
      "duration             0.000   8435       {458752, 7372800, 327680, 98307, 0...\n",
      "genre                13.451  1973       {'We R All Egyptians', 'retisent',...\n",
      "last_modified        0.000   9107       {'2021-06-30T15:52:48Z', '2021-09-...\n",
      "license              0.000   8          {'cc-by-nc-nd', 'cc-by-nc', 'cc-by...\n",
      "likes_count          0.000   2380       {'9356', '103', '3045', '300', '14...\n",
      "permalink_url        0.000   10242      {'https://soundcloud.com/imbn/yeah...\n",
      "playback_count       0.000   5879       {'193619', '46361', '2957', '141',...\n",
      "reposts_count        0.000   1220       {0, 1, 2, 3, 4, 5, 6, 7, 8, 9, 10,...\n",
      "state                0.000   2          {'finished', 'processing'}...\n"
     ]
    }
   ],
   "source": [
    "print_info(tracks_obj)"
   ]
  },
  {
   "cell_type": "markdown",
   "metadata": {},
   "source": [
    "**Dựa vào kết quả ở trên:**\n",
    "- Cột \"description\", \"genre\" có phần trăm thiếu lần lượt là 17.874% và 13.451% cũng đáng để chúng ta xem xét. Cột \"description\" bị thiếu là do bài hát \"bị bỏ quên\" phần mô tả (mô tả là tùy chọn) và cũng tương tự với \"genre\", cột \"genre\" bị thiếu do bài hát không được gán nhãn thuộc thể loại nào.\n",
    "- Các cột còn lại đều không bị thiếu."
   ]
  },
  {
   "cell_type": "code",
   "execution_count": 11,
   "metadata": {},
   "outputs": [
    {
     "name": "stdout",
     "output_type": "stream",
     "text": [
      "ColName              Miss(%) NumDifVals SomeVals\n",
      "id                   0.000   1763       {1, 2, 6, 7, 8, 9, 10, 11, 12, 15,...\n",
      "username             0.000   1763       {'santorini', 'Delsin Records', 'e...\n",
      "first_name           19.399  943        {'Valerio', 'Dublex', 'Faye', 'Wiv...\n",
      "last_name            27.907  1198       {'Söderlund', 'Holzhausen', 'MC', ...\n",
      "full_name            18.945  1418       {'Raanan Weber', 'Barry', 'demetri...\n",
      "city                 8.281   437        {'Perugia', 'riccione', '....', 'B...\n",
      "avatar_url           0.000   1409       {'https://i1.sndcdn.com/avatars-00...\n",
      "playlist_count       0.000   65         {0, 1, 2, 3, 4, 5, 6, 7, 8, 9, 10,...\n",
      "track_count          0.000   181        {0, 1, 2, 3, 4, 5, 6, 7, 8, 9, 515...\n",
      "description          16.846  785        {'Auf dem kreativen Pflaster der B...\n",
      "followers_count      0.000   961        {0, 2049, 1, 3, 4, 5, 6, 7, 8, 9, ...\n",
      "followings_count     0.000   523        {0, 1, 2, 3, 4, 5, 6, 7, 8, 9, 10,...\n",
      "groups_count         0.000   1          {0}...\n",
      "likes_count          0.000   369        {0, 1, 2, 3, 4, 5, 6, 7, 8, 9, 10,...\n",
      "comments_count       0.000   264        {0, 1, 2, 3, 4, 5, 6, 7, 8, 9, 10,...\n",
      "playlist_likes_count 0.000   95         {0, 1, 2, 3, 4, 5, 6, 7, 8, 9, 10,...\n",
      "last_modified        0.000   1636       {'2019-06-25T14:16:00Z', '2021-10-...\n",
      "created_at           0.000   1761       {'2007-11-19T14:09:01Z', '2007-09-...\n",
      "verified             0.000   2          {False, True}...\n"
     ]
    }
   ],
   "source": [
    "print_info(users_obj)"
   ]
  },
  {
   "cell_type": "markdown",
   "metadata": {},
   "source": [
    "**Dựa vào kết quả ở trên:**\n",
    "- Đầu tiên, ta chú ý đến ba cột \"first_name\", \"last_name\", \"full_name\" đều có phần trăm thiếu khoảng 20%. Theo suy đoán thì có thể người dùng họ nhập dữ liệu cho 1 hoặc 2 trong 3 trường, do 3 trường này là thuộc tính tùy chọn. Nên họ nhập 1 trong 3 hay 2 trong 3 là đạt yêu cầu. Việc này dẫn đến phẩn trăm thiếu như trên.\n",
    "- Cũng giống như tập dữ liệu \"tracks\", cột \"description\" bị thiếu khoảng 16.846% do người dùng không mô tả cho bản thân vì đây là trường tùy chọn (tùy theo sở thích của mỗi người).\n",
    "- Cột \"city\" bị thiếu khoảng 8.281% cũng có ý nghĩa tương tự là do người dùng không khai báo thành phố nơi họ đang sống..."
   ]
  },
  {
   "cell_type": "markdown",
   "metadata": {},
   "source": [
    "### Kiểu dữ liệu <a class=\"anchor\" id=\"c342\"></a>"
   ]
  },
  {
   "cell_type": "markdown",
   "metadata": {},
   "source": [
    "**Mỗi cột hiện đang có kiểu dữ liệu gì? Có cột nào có kiểu dữ liệu chưa phù hợp để có thể xử lý tiếp không?**\n",
    "- Ở đây, chúng ta xem xét kiểu dữ liệu của từng tập dữ liệu của chúng ta gồm: playlists, tracks, users.\n",
    "- Và xem xét liệu có kiểu dữ liệu nào chưa phù hợp."
   ]
  },
  {
   "cell_type": "code",
   "execution_count": 12,
   "metadata": {},
   "outputs": [
    {
     "data": {
      "text/plain": [
       "id                int64\n",
       "user_id           int64\n",
       "title            object\n",
       "created_at       object\n",
       "last_modified    object\n",
       "license          object\n",
       "likes_count       int64\n",
       "permalink_url    object\n",
       "public             bool\n",
       "purchase_url     object\n",
       "reposts_count     int64\n",
       "secret_token     object\n",
       "sharing          object\n",
       "tag_list         object\n",
       "uri              object\n",
       "set_type         object\n",
       "is_album           bool\n",
       "trackIds         object\n",
       "dtype: object"
      ]
     },
     "execution_count": 12,
     "metadata": {},
     "output_type": "execute_result"
    }
   ],
   "source": [
    "df_playlists.dtypes"
   ]
  },
  {
   "cell_type": "markdown",
   "metadata": {},
   "source": [
    "**Đối với tập dữ liệu playlists**\n",
    "- Các cột \"id\", \"user_id\", \"likes_count\", \"reposts_count\" có kiểu dữ liệu kiểu số là chính xác.\n",
    "- Cột \"title\", \"license\", \"permalink_url\", \"purchase_url\", \"secret_token\", \"sharing\", \"tag_list\", \"uri\", \"set_type\", \"is_album\", \"trackIds\": các cột này có kiểu dữ liệu là chuỗi.\n",
    "- Cột \"created_at\", \"last_modified\" hiện có dữ liệu là chuyển. Chúng ta cần chuyển từ kiểu dữ liệu dạng chuỗi sang datetime."
   ]
  },
  {
   "cell_type": "code",
   "execution_count": 13,
   "metadata": {},
   "outputs": [
    {
     "data": {
      "text/plain": [
       "id                 int64\n",
       "user_id            int64\n",
       "title             object\n",
       "description       object\n",
       "track_format      object\n",
       "uri               object\n",
       "caption           object\n",
       "comment_count     object\n",
       "created_at        object\n",
       "duration           int64\n",
       "genre             object\n",
       "last_modified     object\n",
       "license           object\n",
       "likes_count       object\n",
       "permalink_url     object\n",
       "playback_count    object\n",
       "reposts_count      int64\n",
       "state             object\n",
       "dtype: object"
      ]
     },
     "execution_count": 13,
     "metadata": {},
     "output_type": "execute_result"
    }
   ],
   "source": [
    "df_tracks.dtypes"
   ]
  },
  {
   "cell_type": "markdown",
   "metadata": {},
   "source": [
    "**Đối với tập dữ liệu tracks**\n",
    "- Cột \"id\", \"user_id\", \"duration\", \"reposts_count\" có kiểu dữ liệu số.\n",
    "- Cột \"title\", \"description\", \"track_format\", \"uri\", \"caption\", \"genre\", \"license\", \"permalink_url\", \"state\" có kiểu dạng chuỗi.\n",
    "- Chúng ta cần chuyển lại kiểu dữ liệu chuỗi sang datetime cho các cột \"created_at\", \"last_modified\".\n",
    "- Và các cột \"comment_count\", \"likes_count\", \"playback_count\" có kiểu dữ liệu chưa chính xác. Hiện các cột này đang có dữ liệu là chuỗi, chúng ta cần chuyển sang kiểu số. Lý do các cột này chưa chính xác là do các giá trị của cột bị thiếu, và gía trị mặc định của các giá trị thiếu là \"None\" nên ảnh hưởng đến kiểu dữ liệu của cột."
   ]
  },
  {
   "cell_type": "code",
   "execution_count": 14,
   "metadata": {},
   "outputs": [
    {
     "data": {
      "text/plain": [
       "id                       int64\n",
       "username                object\n",
       "first_name              object\n",
       "last_name               object\n",
       "full_name               object\n",
       "city                    object\n",
       "avatar_url              object\n",
       "playlist_count           int64\n",
       "track_count              int64\n",
       "description             object\n",
       "followers_count          int64\n",
       "followings_count         int64\n",
       "groups_count             int64\n",
       "likes_count              int64\n",
       "comments_count           int64\n",
       "playlist_likes_count     int64\n",
       "last_modified           object\n",
       "created_at              object\n",
       "verified                  bool\n",
       "dtype: object"
      ]
     },
     "execution_count": 14,
     "metadata": {},
     "output_type": "execute_result"
    }
   ],
   "source": [
    "df_users.dtypes"
   ]
  },
  {
   "cell_type": "markdown",
   "metadata": {},
   "source": [
    "**Đối với tập dữ liệu users**\n",
    "- Cột \"id\", \"playlist_count\", \"track_count\", \"followers_count\", \"followings_count\", \"groups_count\", \"likes_count\", \"comments_count\", \"playlist_likes_count\" đều có kiểu dữ liệu đúng với mong muốn của chúng ta là kiểu số.\n",
    "- Cột \"username\", \"first_name\", \"last_name\", \"full_name\", \"city\", \"avatar_url\", \"description\" có kiểu dữ liệu là chuỗi là chính xác.\n",
    "- Ta thấy cột \"last_modified\", \"created_at\" có kiểu dữ liệu là chuỗi. Chúng ta cần chuyển sang dạng datetime cho hai cột đó mới chính xác."
   ]
  },
  {
   "cell_type": "markdown",
   "metadata": {},
   "source": [
    "### Kiểm tra ngoại lệ <a class=\"anchor\" id=\"c343\"></a>"
   ]
  },
  {
   "cell_type": "code",
   "execution_count": null,
   "metadata": {},
   "outputs": [],
   "source": []
  },
  {
   "cell_type": "markdown",
   "metadata": {},
   "source": [
    "### Tiền xử lý dữ liệu <a class=\"anchor\" id=\"c344\"></a>"
   ]
  },
  {
   "cell_type": "markdown",
   "metadata": {},
   "source": [
    "- Chúng ta sẽ xử lý các vấn đề bên trên đã nêu bao gồm:\n",
    "    - Chuyển đổi chuỗi sang datetime cho 3 tập dữ liệu với các cột: \"created_at\" và \"last_modified\".\n",
    "    - Chuyển đổi các cột có giá trị None thay thế bằng giá trị 0 và đổi kiểu dữ liệu của cột thành kiểu số cho tập dữ liệu \"tracks\" với 3 cột \"comment_count\", \"likes_count\", \"playback_count\"."
   ]
  },
  {
   "cell_type": "code",
   "execution_count": 15,
   "metadata": {},
   "outputs": [],
   "source": [
    "def format_datetime(df):\n",
    "    columns = [\"created_at\", \"last_modified\"]\n",
    "    for column in columns:\n",
    "        df[column] = pd.to_datetime(df[column])"
   ]
  },
  {
   "cell_type": "code",
   "execution_count": 16,
   "metadata": {},
   "outputs": [],
   "source": [
    "format_datetime(df_playlists)\n",
    "format_datetime(df_tracks)\n",
    "format_datetime(df_users)"
   ]
  },
  {
   "cell_type": "markdown",
   "metadata": {},
   "source": [
    "- Sau khi chuyển đổi chuỗi sang datetime cho tập dữ liệu, ta thử kiểm tra."
   ]
  },
  {
   "cell_type": "code",
   "execution_count": 17,
   "metadata": {},
   "outputs": [
    {
     "data": {
      "text/plain": [
       "id                             int64\n",
       "user_id                        int64\n",
       "title                         object\n",
       "created_at       datetime64[ns, UTC]\n",
       "last_modified    datetime64[ns, UTC]\n",
       "license                       object\n",
       "likes_count                    int64\n",
       "permalink_url                 object\n",
       "public                          bool\n",
       "purchase_url                  object\n",
       "reposts_count                  int64\n",
       "secret_token                  object\n",
       "sharing                       object\n",
       "tag_list                      object\n",
       "uri                           object\n",
       "set_type                      object\n",
       "is_album                        bool\n",
       "trackIds                      object\n",
       "dtype: object"
      ]
     },
     "execution_count": 17,
     "metadata": {},
     "output_type": "execute_result"
    }
   ],
   "source": [
    "df_playlists.dtypes"
   ]
  },
  {
   "cell_type": "code",
   "execution_count": 18,
   "metadata": {},
   "outputs": [
    {
     "data": {
      "text/plain": [
       "id                              int64\n",
       "user_id                         int64\n",
       "title                          object\n",
       "description                    object\n",
       "track_format                   object\n",
       "uri                            object\n",
       "caption                        object\n",
       "comment_count                  object\n",
       "created_at        datetime64[ns, UTC]\n",
       "duration                        int64\n",
       "genre                          object\n",
       "last_modified     datetime64[ns, UTC]\n",
       "license                        object\n",
       "likes_count                    object\n",
       "permalink_url                  object\n",
       "playback_count                 object\n",
       "reposts_count                   int64\n",
       "state                          object\n",
       "dtype: object"
      ]
     },
     "execution_count": 18,
     "metadata": {},
     "output_type": "execute_result"
    }
   ],
   "source": [
    "df_tracks.dtypes"
   ]
  },
  {
   "cell_type": "code",
   "execution_count": 19,
   "metadata": {},
   "outputs": [
    {
     "data": {
      "text/plain": [
       "id                                    int64\n",
       "username                             object\n",
       "first_name                           object\n",
       "last_name                            object\n",
       "full_name                            object\n",
       "city                                 object\n",
       "avatar_url                           object\n",
       "playlist_count                        int64\n",
       "track_count                           int64\n",
       "description                          object\n",
       "followers_count                       int64\n",
       "followings_count                      int64\n",
       "groups_count                          int64\n",
       "likes_count                           int64\n",
       "comments_count                        int64\n",
       "playlist_likes_count                  int64\n",
       "last_modified           datetime64[ns, UTC]\n",
       "created_at              datetime64[ns, UTC]\n",
       "verified                               bool\n",
       "dtype: object"
      ]
     },
     "execution_count": 19,
     "metadata": {},
     "output_type": "execute_result"
    }
   ],
   "source": [
    "df_users.dtypes"
   ]
  },
  {
   "cell_type": "markdown",
   "metadata": {},
   "source": [
    "- Kiểu dữ liệu dạng datetime64. Vậy chúng ta đã hoàn thành bước chuyển kiểu dữ liệu sang datetime.\n",
    "- Tiếp theo chúng ta sẽ chuyển những cột dữ liệu có dạng chuỗi chưa đúng sang dạng số."
   ]
  },
  {
   "cell_type": "code",
   "execution_count": 20,
   "metadata": {},
   "outputs": [],
   "source": [
    "def format_empty_vals(df):\n",
    "    for column in df.columns:\n",
    "        if 'count' in column:\n",
    "            df[column] = df[column].replace('None', 0)\n",
    "            df[column] = df[column].astype(str).astype(int)\n",
    "        else:\n",
    "            df[column] = df[column].replace(float('nan'), 'None')        "
   ]
  },
  {
   "cell_type": "code",
   "execution_count": 21,
   "metadata": {},
   "outputs": [],
   "source": [
    "format_empty_vals(df_playlists)\n",
    "format_empty_vals(df_tracks)\n",
    "format_empty_vals(df_users)"
   ]
  },
  {
   "cell_type": "markdown",
   "metadata": {},
   "source": [
    "- Sau khi chuyển đổi dữ liệu xong, ta thử kiểm tra lần nữa."
   ]
  },
  {
   "cell_type": "code",
   "execution_count": 22,
   "metadata": {},
   "outputs": [
    {
     "data": {
      "text/plain": [
       "id                              int64\n",
       "user_id                         int64\n",
       "title                          object\n",
       "description                    object\n",
       "track_format                   object\n",
       "uri                            object\n",
       "caption                        object\n",
       "comment_count                   int32\n",
       "created_at        datetime64[ns, UTC]\n",
       "duration                        int64\n",
       "genre                          object\n",
       "last_modified     datetime64[ns, UTC]\n",
       "license                        object\n",
       "likes_count                     int32\n",
       "permalink_url                  object\n",
       "playback_count                  int32\n",
       "reposts_count                   int32\n",
       "state                          object\n",
       "dtype: object"
      ]
     },
     "execution_count": 22,
     "metadata": {},
     "output_type": "execute_result"
    }
   ],
   "source": [
    "df_tracks.dtypes"
   ]
  },
  {
   "cell_type": "markdown",
   "metadata": {},
   "source": [
    "- Các cột \"comment_count\", \"likes_count\", \"playback_count\" có kiểu dữ liệu dạng chuỗi cũng đã được chuyển thành dạng kiểu số.\n",
    "- Bây giờ chúng ta có thể trực quan dữ liệu chúng ta với các biểu đồ."
   ]
  },
  {
   "cell_type": "markdown",
   "metadata": {},
   "source": [
    "### Phân tích khám phá <a class=\"anchor\" id=\"c35\"></a>"
   ]
  },
  {
   "cell_type": "markdown",
   "metadata": {},
   "source": [
    "- Sau khi hoàn thành quá trình kiểm tra kiểu dữ liệu, xem dữ liệu có bị thiếu không, có dữ liệu nào trùng không, dữ liệu của chúng ta đủ để khai thác và khám phá chưa ?\n",
    "- Thì phần Phân Tích Khám Phá sẽ là phần chúng ta đặt những câu hỏi về bộ dữ liệu của chúng ta:\n",
    "    - Liệu có bao nhiêu user được tạo qua từng năm ?\n",
    "    - Mỗi user có bao nhiêu track ?\n",
    "    - Những track có thời lượng dài ngắn như thế nào ?\n",
    "    - Các track thuộc các thể loại khác nhau thì được phân phối như thế nào ?\n",
    "    - Liệu một user có nhiều track thì đồng nghĩa sẽ có nhiều người theo dõi anh/chị ấy chăng ?\n",
    "    - Và tương tự, môt user khi nghe bài hát đó, người đó like và có comment cho bài hát yêu thích của mình ?\n",
    "    - Và chúng ta sẽ tìm ra các mối quan hệ giữa các trường của dữ liệu, xem những cặp trường nào có độ tương quan lớn nhất\n",
    "    - ...\n",
    "- Phần Phân Tích Khám Phá sẽ giải đáp cho chúng ta những câu hỏi thắc mắc về dữ liệu một cách trực quan nhất bằng những biểu đồ mô tả, so sánh dữ liệu bao gồm 2 nhóm biểu đồ:\n",
    "    - Biểu đồ thể hiện mối quan hệ đơn biến:\n",
    "        - [Line chart](#c3511)\n",
    "        - [Histogram](#c3512)\n",
    "        - [Distplot](#c3513)\n",
    "    - Biểu đồ thể hiện mối quan hệ đa biến:\n",
    "        - [Correlation matrix ](#c3521)\n",
    "        - [Scatterplot](#c3522)\n",
    "        - [Pie chart và Bar chart](#c3523)\n",
    "        - [Jointplot](#c3524)\n",
    "        - [Kde plot](#c3525)"
   ]
  },
  {
   "cell_type": "markdown",
   "metadata": {},
   "source": [
    "#### Trực quan hoá mối quan hệ đơn biến <a class=\"anchor\" id=\"c351\"></a>"
   ]
  },
  {
   "cell_type": "markdown",
   "metadata": {},
   "source": [
    "### Line chart <a class=\"anchor\" id=\"c3511\"></a>"
   ]
  },
  {
   "cell_type": "markdown",
   "metadata": {},
   "source": [
    "- [Line chart](#c3511) là một biểu đồ thể hiện xu hướng của dữ liệu giúp ta biết được sự thay đổi của dữ liệu qua các giai đoạn.\n",
    "- Ở trong phần này, chúng ta dùng [Line chart](#c3511) để hiểu được xu hướng và có được cái nhìn tổng quan cũng như nhận xét và trả lời được câu hỏi của chúng ta."
   ]
  },
  {
   "cell_type": "markdown",
   "metadata": {},
   "source": [
    "#### Số lượng track được tạo mới qua từng năm\n",
    "Đối với số lượng track được tạo mới qua từng thời điểm, ta chỉ cần quan tâm tới cột dữ liệu <span style=\"color:orange\">'create_at'.</span>\n",
    "Trường này cho ta biết thời gian của 1 track được tạo, hay đúng hơn là được đăng lên soundcloud.\n",
    "Với định dạng thời gian được đề cập ở đây là năm, ta cần làm những việc sau:\n",
    "- Tạo 1 column khác bên ngoài DataFrame <span style=\"color:blue\">df_tracks</span> với định dạng <span style=\"color:orange\">%Y.</span>\n",
    "- Gom nhóm các giá trị giống nhau lại, đồng thời tạo thêm 1 column khác chứa số lượng của các giá trị đặc trưng (các năm khác nhau) trong column đó.\n",
    "- 2 cột vừa được tạo sẽ trở thành 1 DataFrame mới, đặt tên là <span style=\"color:blue\">df_count_track_year</span>\n",
    "- Dùng hàm pd.plot.line() để trực quan hóa, với trục x là các mốc theo năm, y là số lượng track được tạo trong năm"
   ]
  },
  {
   "cell_type": "code",
   "execution_count": 23,
   "metadata": {},
   "outputs": [
    {
     "data": {
      "text/plain": [
       "<matplotlib.legend.Legend at 0x1e18310c6a0>"
      ]
     },
     "execution_count": 23,
     "metadata": {},
     "output_type": "execute_result"
    },
    {
     "data": {
      "image/png": "[encoded data removed]",
      "text/plain": [
       "<Figure size 1080x576 with 1 Axes>"
      ]
     },
     "metadata": {
      "needs_background": "light"
     },
     "output_type": "display_data"
    }
   ],
   "source": [
    "tmp_date = pd.DataFrame(columns = [\"date\"])\n",
    "tmp_date['date'] = df_tracks['created_at'].dt.strftime('%Y')\n",
    "df_count_track_year = tmp_date.groupby(['date']).size().reset_index().rename(columns={0:'track_count'})\n",
    "df_count_track_year['date'] = pd.to_datetime(df_count_track_year['date'], format='%Y')\n",
    "df_count_track_year['date'] = df_count_track_year['date'].dt.strftime('%Y')\n",
    "df_count_track_year = df_count_track_year.sort_index()\n",
    "year_graph = df_count_track_year.plot.line(x='date', y='track_count', figsize = (15, 8))\n",
    "year_graph.set_xlabel('Created at')\n",
    "year_graph.legend([\"Track count\"])"
   ]
  },
  {
   "cell_type": "code",
   "execution_count": 24,
   "metadata": {},
   "outputs": [
    {
     "data": {
      "text/html": [
       "<div>\n",
       "<style scoped>\n",
       "    .dataframe tbody tr th:only-of-type {\n",
       "        vertical-align: middle;\n",
       "    }\n",
       "\n",
       "    .dataframe tbody tr th {\n",
       "        vertical-align: top;\n",
       "    }\n",
       "\n",
       "    .dataframe thead th {\n",
       "        text-align: right;\n",
       "    }\n",
       "</style>\n",
       "<table border=\"1\" class=\"dataframe\">\n",
       "  <thead>\n",
       "    <tr style=\"text-align: right;\">\n",
       "      <th></th>\n",
       "      <th>date</th>\n",
       "      <th>track_count</th>\n",
       "      <th>pct_change</th>\n",
       "    </tr>\n",
       "  </thead>\n",
       "  <tbody>\n",
       "    <tr>\n",
       "      <th>0</th>\n",
       "      <td>2007</td>\n",
       "      <td>61</td>\n",
       "      <td>NaN</td>\n",
       "    </tr>\n",
       "    <tr>\n",
       "      <th>1</th>\n",
       "      <td>2008</td>\n",
       "      <td>160</td>\n",
       "      <td>162.30</td>\n",
       "    </tr>\n",
       "    <tr>\n",
       "      <th>2</th>\n",
       "      <td>2009</td>\n",
       "      <td>222</td>\n",
       "      <td>38.75</td>\n",
       "    </tr>\n",
       "    <tr>\n",
       "      <th>3</th>\n",
       "      <td>2010</td>\n",
       "      <td>396</td>\n",
       "      <td>78.38</td>\n",
       "    </tr>\n",
       "    <tr>\n",
       "      <th>4</th>\n",
       "      <td>2011</td>\n",
       "      <td>521</td>\n",
       "      <td>31.57</td>\n",
       "    </tr>\n",
       "    <tr>\n",
       "      <th>5</th>\n",
       "      <td>2012</td>\n",
       "      <td>725</td>\n",
       "      <td>39.16</td>\n",
       "    </tr>\n",
       "    <tr>\n",
       "      <th>6</th>\n",
       "      <td>2013</td>\n",
       "      <td>994</td>\n",
       "      <td>37.10</td>\n",
       "    </tr>\n",
       "    <tr>\n",
       "      <th>7</th>\n",
       "      <td>2014</td>\n",
       "      <td>1085</td>\n",
       "      <td>9.15</td>\n",
       "    </tr>\n",
       "    <tr>\n",
       "      <th>8</th>\n",
       "      <td>2015</td>\n",
       "      <td>966</td>\n",
       "      <td>-10.97</td>\n",
       "    </tr>\n",
       "    <tr>\n",
       "      <th>9</th>\n",
       "      <td>2016</td>\n",
       "      <td>1001</td>\n",
       "      <td>3.62</td>\n",
       "    </tr>\n",
       "    <tr>\n",
       "      <th>10</th>\n",
       "      <td>2017</td>\n",
       "      <td>808</td>\n",
       "      <td>-19.28</td>\n",
       "    </tr>\n",
       "    <tr>\n",
       "      <th>11</th>\n",
       "      <td>2018</td>\n",
       "      <td>794</td>\n",
       "      <td>-1.73</td>\n",
       "    </tr>\n",
       "    <tr>\n",
       "      <th>12</th>\n",
       "      <td>2019</td>\n",
       "      <td>848</td>\n",
       "      <td>6.80</td>\n",
       "    </tr>\n",
       "    <tr>\n",
       "      <th>13</th>\n",
       "      <td>2020</td>\n",
       "      <td>1156</td>\n",
       "      <td>36.32</td>\n",
       "    </tr>\n",
       "    <tr>\n",
       "      <th>14</th>\n",
       "      <td>2021</td>\n",
       "      <td>1117</td>\n",
       "      <td>-3.37</td>\n",
       "    </tr>\n",
       "  </tbody>\n",
       "</table>\n",
       "</div>"
      ],
      "text/plain": [
       "    date  track_count  pct_change\n",
       "0   2007           61         NaN\n",
       "1   2008          160      162.30\n",
       "2   2009          222       38.75\n",
       "3   2010          396       78.38\n",
       "4   2011          521       31.57\n",
       "5   2012          725       39.16\n",
       "6   2013          994       37.10\n",
       "7   2014         1085        9.15\n",
       "8   2015          966      -10.97\n",
       "9   2016         1001        3.62\n",
       "10  2017          808      -19.28\n",
       "11  2018          794       -1.73\n",
       "12  2019          848        6.80\n",
       "13  2020         1156       36.32\n",
       "14  2021         1117       -3.37"
      ]
     },
     "execution_count": 24,
     "metadata": {},
     "output_type": "execute_result"
    }
   ],
   "source": [
    "df_count_track_year['pct_change'] = df_count_track_year['track_count'].pct_change().round(decimals=4)*100\n",
    "df_count_track_year"
   ]
  },
  {
   "cell_type": "markdown",
   "metadata": {},
   "source": [
    "##### Trong đó\n",
    "- date: khoảng thời gian được tính (năm)\n",
    "- track_count: số lượng track trong năm\n",
    "- pct_change: % số lượng track thay đổi so với năm trước"
   ]
  },
  {
   "cell_type": "code",
   "execution_count": 25,
   "metadata": {},
   "outputs": [
    {
     "name": "stdout",
     "output_type": "stream",
     "text": [
      "Mean value track count:  723.6\n"
     ]
    },
    {
     "data": {
      "text/html": [
       "<div>\n",
       "<style scoped>\n",
       "    .dataframe tbody tr th:only-of-type {\n",
       "        vertical-align: middle;\n",
       "    }\n",
       "\n",
       "    .dataframe tbody tr th {\n",
       "        vertical-align: top;\n",
       "    }\n",
       "\n",
       "    .dataframe thead th {\n",
       "        text-align: right;\n",
       "    }\n",
       "</style>\n",
       "<table border=\"1\" class=\"dataframe\">\n",
       "  <thead>\n",
       "    <tr style=\"text-align: right;\">\n",
       "      <th></th>\n",
       "      <th>date</th>\n",
       "      <th>track_count</th>\n",
       "      <th>pct_change</th>\n",
       "    </tr>\n",
       "  </thead>\n",
       "  <tbody>\n",
       "    <tr>\n",
       "      <th>13</th>\n",
       "      <td>2020</td>\n",
       "      <td>1156</td>\n",
       "      <td>36.32</td>\n",
       "    </tr>\n",
       "    <tr>\n",
       "      <th>0</th>\n",
       "      <td>2007</td>\n",
       "      <td>61</td>\n",
       "      <td>NaN</td>\n",
       "    </tr>\n",
       "  </tbody>\n",
       "</table>\n",
       "</div>"
      ],
      "text/plain": [
       "    date  track_count  pct_change\n",
       "13  2020         1156       36.32\n",
       "0   2007           61         NaN"
      ]
     },
     "execution_count": 25,
     "metadata": {},
     "output_type": "execute_result"
    }
   ],
   "source": [
    "year_max = df_count_track_year['track_count'].idxmax()\n",
    "year_min = df_count_track_year['track_count'].idxmin()\n",
    "print(\"Mean value track count: \", df_count_track_year['track_count'].mean())\n",
    "df_count_track_year.loc[[year_max,year_min]]"
   ]
  },
  {
   "cell_type": "markdown",
   "metadata": {},
   "source": [
    "#### Nhận xét:\n",
    "- Nhìn chung số lượng track được tạo thêm mỗi năm có xu hướng tăng dần do mức độ phổ biến tăng và số lượng người dùng tăng hàng năm\n",
    "- Những năm đầu tiên của soundcloud có khá ít track được tạo\n",
    "- Số lượng track được tạo vào năm 2017-2019 có sự suy giảm tương đối mạnh, sau đó tăng vọt trở lại vào đạt đỉnh vào 2020\n",
    "- Trung bình mỗi năm có hơn 723 track được tạo trên soundcloud"
   ]
  },
  {
   "cell_type": "markdown",
   "metadata": {},
   "source": [
    "#### Số lượng track được tạo mới qua từng tháng \n",
    "Tương tự với só lượng track tạo mới qua từng năm, số lượng track tạo mới qua từng tháng cũng được làm tương tự với <span style=\"color:blue\">df_count_track_month</span>\n",
    "\n",
    "Tuy nhiên, khác với mục đích nhìn một cách tổng quan về số lượng track được tạo qua từng năm, biểu đồ với từng tháng nhằm mục đích xem xét sự biến thiên về số track được tạo trong năm và so với các tháng trong năm trước."
   ]
  },
  {
   "cell_type": "code",
   "execution_count": 26,
   "metadata": {},
   "outputs": [
    {
     "data": {
      "text/plain": [
       "<matplotlib.legend.Legend at 0x1e183269100>"
      ]
     },
     "execution_count": 26,
     "metadata": {},
     "output_type": "execute_result"
    },
    {
     "data": {
      "image/png": "[encoded data removed]",
      "text/plain": [
       "<Figure size 1080x576 with 1 Axes>"
      ]
     },
     "metadata": {
      "needs_background": "light"
     },
     "output_type": "display_data"
    }
   ],
   "source": [
    "tmp_date = pd.DataFrame(columns = [\"date\"])\n",
    "tmp_date['date'] = df_tracks['created_at'].dt.strftime('%m/%Y')\n",
    "df_count_track_month = tmp_date.groupby(['date']).size().reset_index().rename(columns={0:'track_count'})\n",
    "df_count_track_month['date'] = pd.to_datetime(df_count_track_month['date'], format='%m/%Y')\n",
    "df_count_track_month = df_count_track_month.sort_values(by = \"date\")\n",
    "month_graph = df_count_track_month.plot.line(x='date', y='track_count', figsize = (15, 8))\n",
    "month_graph.set_xlabel('Created at')\n",
    "month_graph.legend([\"Track count\"])"
   ]
  },
  {
   "cell_type": "code",
   "execution_count": 27,
   "metadata": {},
   "outputs": [
    {
     "data": {
      "text/html": [
       "<div>\n",
       "<style scoped>\n",
       "    .dataframe tbody tr th:only-of-type {\n",
       "        vertical-align: middle;\n",
       "    }\n",
       "\n",
       "    .dataframe tbody tr th {\n",
       "        vertical-align: top;\n",
       "    }\n",
       "\n",
       "    .dataframe thead th {\n",
       "        text-align: right;\n",
       "    }\n",
       "</style>\n",
       "<table border=\"1\" class=\"dataframe\">\n",
       "  <thead>\n",
       "    <tr style=\"text-align: right;\">\n",
       "      <th></th>\n",
       "      <th>date</th>\n",
       "      <th>track_count</th>\n",
       "      <th>pct_change</th>\n",
       "    </tr>\n",
       "  </thead>\n",
       "  <tbody>\n",
       "    <tr>\n",
       "      <th>98</th>\n",
       "      <td>2007-08-01</td>\n",
       "      <td>1</td>\n",
       "      <td>NaN</td>\n",
       "    </tr>\n",
       "    <tr>\n",
       "      <th>113</th>\n",
       "      <td>2007-09-01</td>\n",
       "      <td>23</td>\n",
       "      <td>2200.00</td>\n",
       "    </tr>\n",
       "    <tr>\n",
       "      <th>128</th>\n",
       "      <td>2007-10-01</td>\n",
       "      <td>3</td>\n",
       "      <td>-86.96</td>\n",
       "    </tr>\n",
       "    <tr>\n",
       "      <th>143</th>\n",
       "      <td>2007-11-01</td>\n",
       "      <td>27</td>\n",
       "      <td>800.00</td>\n",
       "    </tr>\n",
       "    <tr>\n",
       "      <th>158</th>\n",
       "      <td>2007-12-01</td>\n",
       "      <td>7</td>\n",
       "      <td>-74.07</td>\n",
       "    </tr>\n",
       "    <tr>\n",
       "      <th>...</th>\n",
       "      <td>...</td>\n",
       "      <td>...</td>\n",
       "      <td>...</td>\n",
       "    </tr>\n",
       "    <tr>\n",
       "      <th>97</th>\n",
       "      <td>2021-07-01</td>\n",
       "      <td>72</td>\n",
       "      <td>-67.57</td>\n",
       "    </tr>\n",
       "    <tr>\n",
       "      <th>112</th>\n",
       "      <td>2021-08-01</td>\n",
       "      <td>104</td>\n",
       "      <td>44.44</td>\n",
       "    </tr>\n",
       "    <tr>\n",
       "      <th>127</th>\n",
       "      <td>2021-09-01</td>\n",
       "      <td>77</td>\n",
       "      <td>-25.96</td>\n",
       "    </tr>\n",
       "    <tr>\n",
       "      <th>142</th>\n",
       "      <td>2021-10-01</td>\n",
       "      <td>98</td>\n",
       "      <td>27.27</td>\n",
       "    </tr>\n",
       "    <tr>\n",
       "      <th>157</th>\n",
       "      <td>2021-11-01</td>\n",
       "      <td>8</td>\n",
       "      <td>-91.84</td>\n",
       "    </tr>\n",
       "  </tbody>\n",
       "</table>\n",
       "<p>172 rows × 3 columns</p>\n",
       "</div>"
      ],
      "text/plain": [
       "          date  track_count  pct_change\n",
       "98  2007-08-01            1         NaN\n",
       "113 2007-09-01           23     2200.00\n",
       "128 2007-10-01            3      -86.96\n",
       "143 2007-11-01           27      800.00\n",
       "158 2007-12-01            7      -74.07\n",
       "..         ...          ...         ...\n",
       "97  2021-07-01           72      -67.57\n",
       "112 2021-08-01          104       44.44\n",
       "127 2021-09-01           77      -25.96\n",
       "142 2021-10-01           98       27.27\n",
       "157 2021-11-01            8      -91.84\n",
       "\n",
       "[172 rows x 3 columns]"
      ]
     },
     "execution_count": 27,
     "metadata": {},
     "output_type": "execute_result"
    }
   ],
   "source": [
    "df_count_track_month['pct_change'] = df_count_track_month['track_count'].pct_change().round(decimals=4)*100\n",
    "df_count_track_month"
   ]
  },
  {
   "cell_type": "markdown",
   "metadata": {},
   "source": [
    "##### Trong đó\n",
    "- date: khoảng thời gian được tính (tháng)\n",
    "- track_count: số lượng track trong tháng\n",
    "- pct_change: % số lượng track thay đổi so với tháng trước"
   ]
  },
  {
   "cell_type": "code",
   "execution_count": 28,
   "metadata": {},
   "outputs": [
    {
     "name": "stdout",
     "output_type": "stream",
     "text": [
      "Mean value track count:  63.104651162790695\n"
     ]
    },
    {
     "data": {
      "text/html": [
       "<div>\n",
       "<style scoped>\n",
       "    .dataframe tbody tr th:only-of-type {\n",
       "        vertical-align: middle;\n",
       "    }\n",
       "\n",
       "    .dataframe tbody tr th {\n",
       "        vertical-align: top;\n",
       "    }\n",
       "\n",
       "    .dataframe thead th {\n",
       "        text-align: right;\n",
       "    }\n",
       "</style>\n",
       "<table border=\"1\" class=\"dataframe\">\n",
       "  <thead>\n",
       "    <tr style=\"text-align: right;\">\n",
       "      <th></th>\n",
       "      <th>date</th>\n",
       "      <th>track_count</th>\n",
       "      <th>pct_change</th>\n",
       "    </tr>\n",
       "  </thead>\n",
       "  <tbody>\n",
       "    <tr>\n",
       "      <th>83</th>\n",
       "      <td>2021-06-01</td>\n",
       "      <td>222</td>\n",
       "      <td>58.57</td>\n",
       "    </tr>\n",
       "    <tr>\n",
       "      <th>98</th>\n",
       "      <td>2007-08-01</td>\n",
       "      <td>1</td>\n",
       "      <td>NaN</td>\n",
       "    </tr>\n",
       "  </tbody>\n",
       "</table>\n",
       "</div>"
      ],
      "text/plain": [
       "         date  track_count  pct_change\n",
       "83 2021-06-01          222       58.57\n",
       "98 2007-08-01            1         NaN"
      ]
     },
     "execution_count": 28,
     "metadata": {},
     "output_type": "execute_result"
    }
   ],
   "source": [
    "month_max = df_count_track_month['track_count'].idxmax()\n",
    "month_min = df_count_track_month['track_count'].idxmin()\n",
    "print(\"Mean value track count: \", df_count_track_month['track_count'].mean())\n",
    "df_count_track_month.loc[[month_max,month_min]]"
   ]
  },
  {
   "cell_type": "markdown",
   "metadata": {},
   "source": [
    "#### Nhận xét:\n",
    "- Như ở trên đã nói, số lượng track được tạo qua mỗi năm có xu hướng tăng dần. \n",
    "- Tuy nhiên với các tháng trong 1 năm thì sô lượng track được tạo không có xu hướng rõ ràng, số lượng giữa các tháng là không đồng đều, thậm chí độ biến thiên giữa số lượng các tháng còn rất lớn\n",
    "- Tháng có số lượng track ít nhất ghi nhận được là 08/2007, tháng nhiều nhất là 06/2021 với 222 tracks. \n",
    "- Trung bình mỗi tháng có hơn 63 track được tạo trên soundcloud"
   ]
  },
  {
   "cell_type": "markdown",
   "metadata": {},
   "source": [
    "### Histogram<a class=\"anchor\" id=\"c3512\"></a>"
   ]
  },
  {
   "cell_type": "markdown",
   "metadata": {},
   "source": [
    "- [Histogram](#c3512) là một biểu diễn đồ họa tổ chức một nhóm các điểm dữ liệu thành các phạm vi do người dùng chỉ định. Tương tự như một biểu đồ cột, biểu đồ cô đọng một chuỗi dữ liệu thành một hình ảnh dễ hiểu bằng cách lấy nhiều điểm dữ liệu và nhóm chúng thành các phạm vi hoặc vùng hợp lý.\n",
    "- [Histogram](#c3512) cho cái nhìn tổng quan về sự phân phối của dữ liệu, nhờ vào sự phân phối dễ hiểu, chúng ta có thể có được cái nhìn sơ bộ về độ phân phối các điểm trong tập dữ liệu của chúng ta"
   ]
  },
  {
   "cell_type": "markdown",
   "metadata": {},
   "source": [
    "#### Sự phân bổ số lượng track của user"
   ]
  },
  {
   "cell_type": "markdown",
   "metadata": {},
   "source": [
    "Bởi vì khoảng dữ liệu giữa các giá trị khá nhiều nên ta sẽ chia nhỏ ra các khoảng vừa đủ phù hợp cho từng tính chất dữ liệu"
   ]
  },
  {
   "cell_type": "markdown",
   "metadata": {},
   "source": [
    "Đối với track count, ta sẽ có các giá trị min cũng như max là"
   ]
  },
  {
   "cell_type": "code",
   "execution_count": 29,
   "metadata": {},
   "outputs": [
    {
     "name": "stdout",
     "output_type": "stream",
     "text": [
      "Min: 0\n",
      "Max: 1644\n"
     ]
    }
   ],
   "source": [
    "df_users_track_count_chart = df_users['track_count']\n",
    "print(\"Min:\",df_users_track_count_chart.min())\n",
    "print(\"Max:\",df_users_track_count_chart.max())"
   ]
  },
  {
   "cell_type": "markdown",
   "metadata": {},
   "source": [
    "Nên ta sẽ chia ra các khoảng nhỏ, mỗi khoảng cách nhau 250 đơn vị, ta sẽ được các kiểu dữ liệu"
   ]
  },
  {
   "cell_type": "code",
   "execution_count": 30,
   "metadata": {},
   "outputs": [
    {
     "data": {
      "image/png": "[encoded data removed]",
      "text/plain": [
       "<Figure size 432x288 with 1 Axes>"
      ]
     },
     "metadata": {
      "needs_background": "light"
     },
     "output_type": "display_data"
    }
   ],
   "source": [
    "track_count_chart = df_users_track_count_chart.plot.hist(bins = 25,range=(0,250))"
   ]
  },
  {
   "cell_type": "code",
   "execution_count": 31,
   "metadata": {},
   "outputs": [
    {
     "data": {
      "image/png": "[encoded data removed]",
      "text/plain": [
       "<Figure size 432x288 with 1 Axes>"
      ]
     },
     "metadata": {
      "needs_background": "light"
     },
     "output_type": "display_data"
    }
   ],
   "source": [
    "track_count_chart = df_users_track_count_chart.plot.hist(bins = 25,range=(250,500))"
   ]
  },
  {
   "cell_type": "code",
   "execution_count": 32,
   "metadata": {},
   "outputs": [
    {
     "data": {
      "image/png": "[encoded data removed]",
      "text/plain": [
       "<Figure size 432x288 with 1 Axes>"
      ]
     },
     "metadata": {
      "needs_background": "light"
     },
     "output_type": "display_data"
    }
   ],
   "source": [
    "track_count_chart = df_users_track_count_chart.plot.hist(bins = 50,range=(500,1000))"
   ]
  },
  {
   "cell_type": "code",
   "execution_count": 33,
   "metadata": {},
   "outputs": [
    {
     "data": {
      "image/png": "[encoded data removed]",
      "text/plain": [
       "<Figure size 432x288 with 1 Axes>"
      ]
     },
     "metadata": {
      "needs_background": "light"
     },
     "output_type": "display_data"
    }
   ],
   "source": [
    "track_count_chart = df_users_track_count_chart.plot.hist(bins = 50,range=(1000,1500))"
   ]
  },
  {
   "cell_type": "code",
   "execution_count": 34,
   "metadata": {},
   "outputs": [
    {
     "data": {
      "image/png": "[encoded data removed]",
      "text/plain": [
       "<Figure size 432x288 with 1 Axes>"
      ]
     },
     "metadata": {
      "needs_background": "light"
     },
     "output_type": "display_data"
    }
   ],
   "source": [
    "track_count_chart = df_users_track_count_chart.plot.hist(bins = 50,range=(1500,2000))"
   ]
  },
  {
   "cell_type": "markdown",
   "metadata": {},
   "source": [
    "#### Nhận xét:\n",
    "\n",
    "- Đối với trường dữ liệu track_count, số lượng xuất hiện nhiều nhất ở khoảng 0-250 nói chung và các số cận 0 nói riêng với gần 1200 lần xuất hiện. Đây cũng là khoảng chiếm phần lớn trong trường dữ liệu\n",
    "\n",
    "- Khoảng 250-500, xuất hiện cao nhất chỉ có 3 lần nhưng các số được dàn trải hơn tức đa dạng về track_count hơn so với khoảng đầu tiên.\n",
    "\n",
    "- Các khoảng còn lại trở nên thưa thớt cũng như số lượng thấp hơn nhiều, từ 1000 trở lên rất ít."
   ]
  },
  {
   "cell_type": "markdown",
   "metadata": {},
   "source": [
    "#### Sự phân bổ thời lượng (Duration) của track"
   ]
  },
  {
   "cell_type": "code",
   "execution_count": 35,
   "metadata": {},
   "outputs": [
    {
     "name": "stdout",
     "output_type": "stream",
     "text": [
      "Min: 0\n",
      "Max: 24113829\n"
     ]
    }
   ],
   "source": [
    "df_tracks_duration = df_tracks['duration']\n",
    "print(\"Min:\",df_tracks_duration.min())\n",
    "print(\"Max:\",df_tracks_duration.max())"
   ]
  },
  {
   "cell_type": "markdown",
   "metadata": {},
   "source": [
    "Với min = 0 và max = 24,113,829 , ta có thể chia các khoảng với cách biệt khác nhau như:\n",
    "+ [0,10000]\n",
    "+ [100000,1000000]\n",
    "+ [1000000,10000000]\n",
    "+ [10000000,24113829]"
   ]
  },
  {
   "cell_type": "code",
   "execution_count": 36,
   "metadata": {},
   "outputs": [
    {
     "data": {
      "image/png": "[encoded data removed]",
      "text/plain": [
       "<Figure size 432x288 with 1 Axes>"
      ]
     },
     "metadata": {
      "needs_background": "light"
     },
     "output_type": "display_data"
    }
   ],
   "source": [
    "tracks_duration_chart = df_tracks_duration.plot.hist(bins=100,range=(0,100000))"
   ]
  },
  {
   "cell_type": "code",
   "execution_count": 37,
   "metadata": {},
   "outputs": [
    {
     "data": {
      "image/png": "[encoded data removed]",
      "text/plain": [
       "<Figure size 432x288 with 1 Axes>"
      ]
     },
     "metadata": {
      "needs_background": "light"
     },
     "output_type": "display_data"
    }
   ],
   "source": [
    "tracks_duration_chart = df_tracks_duration.plot.hist(bins=1000,range=(100000,1000000))"
   ]
  },
  {
   "cell_type": "code",
   "execution_count": 38,
   "metadata": {},
   "outputs": [
    {
     "data": {
      "image/png": "[encoded data removed]",
      "text/plain": [
       "<Figure size 432x288 with 1 Axes>"
      ]
     },
     "metadata": {
      "needs_background": "light"
     },
     "output_type": "display_data"
    }
   ],
   "source": [
    "tracks_duration_chart = df_tracks_duration.plot.hist(bins=1000,range=(1000000,10000000))"
   ]
  },
  {
   "cell_type": "code",
   "execution_count": 39,
   "metadata": {},
   "outputs": [
    {
     "data": {
      "image/png": "[encoded data removed]",
      "text/plain": [
       "<Figure size 432x288 with 1 Axes>"
      ]
     },
     "metadata": {
      "needs_background": "light"
     },
     "output_type": "display_data"
    }
   ],
   "source": [
    "tracks_duration_chart = df_tracks_duration.plot.hist(bins=1000,range=(10000000,df_tracks_duration.max()))"
   ]
  },
  {
   "cell_type": "markdown",
   "metadata": {},
   "source": [
    "#### Nhận xét:\n",
    "Với các biểu đồ trên, ta có thể nhận thấy một số sự phân biệt rõ rệt:\n",
    "+ Khoảng đầu tiên (0,100000), 30,000 chiếm tỉ lệ cao nhất và cũng cao nhất so với các số còn lại. Ngoài có sự tăng cao ở 90000 thì các số còn lại đều được dàn trải khá đều.\n",
    "+ Khoảng thứ hai (100000,1000000), 100,000 đến 500,000 được phân bố rõ rệt, tần suất dao động từ 10 đến 40.\n",
    "+ Khoảng thứ ba (1000000,10000000), các số 3,000,000 đến 4,000,000 tăng cao với tần suất cao nhất là 60 lần. Ngoài ra các thông số còn lại không có gì đặc biệt.\n",
    "+ Khoảng cuối cùng (10000000, max), các con số đã thưa thớt khá nhiều và tần suất cao nhất được thể hiện là 2"
   ]
  },
  {
   "cell_type": "markdown",
   "metadata": {},
   "source": [
    "#### Sự phân bổ số lượng Playback"
   ]
  },
  {
   "cell_type": "code",
   "execution_count": 40,
   "metadata": {},
   "outputs": [
    {
     "name": "stdout",
     "output_type": "stream",
     "text": [
      "Min: 0\n",
      "Max: 221046895\n"
     ]
    }
   ],
   "source": [
    "df_tracks_playback_count = df_tracks['playback_count']\n",
    "df_tracks_playback_count = pd.to_numeric(df_tracks_playback_count, errors='coerce').convert_dtypes()\n",
    "print(\"Min:\",df_tracks_playback_count.min())\n",
    "print(\"Max:\",df_tracks_playback_count.max())"
   ]
  },
  {
   "cell_type": "markdown",
   "metadata": {},
   "source": [
    "Bởi vì có sự cách biệt khá lớn(max lên hằng trăm triệu), ta sẽ có cách chia như duration, qua một số lần thực nghiệm của em, ta có thể rút gọn lại:\n",
    "+ [0,1000]\n",
    "+ [1000,10000]\n",
    "+ [10000,100000]\n",
    "+ [100000,1000000]\n",
    "+ [1000000,10000000]\n",
    "+ [10000000,max]"
   ]
  },
  {
   "cell_type": "code",
   "execution_count": 41,
   "metadata": {},
   "outputs": [
    {
     "data": {
      "image/png": "[encoded data removed]",
      "text/plain": [
       "<Figure size 432x288 with 1 Axes>"
      ]
     },
     "metadata": {
      "needs_background": "light"
     },
     "output_type": "display_data"
    }
   ],
   "source": [
    "tracks_playback_count_chart = df_tracks_playback_count.plot.hist(bins = 100,range=(0,1000))"
   ]
  },
  {
   "cell_type": "code",
   "execution_count": 42,
   "metadata": {},
   "outputs": [
    {
     "data": {
      "image/png": "[encoded data removed]",
      "text/plain": [
       "<Figure size 432x288 with 1 Axes>"
      ]
     },
     "metadata": {
      "needs_background": "light"
     },
     "output_type": "display_data"
    }
   ],
   "source": [
    "tracks_playback_count_chart = df_tracks_playback_count.plot.hist(bins = 1000,range=(1000,10000))"
   ]
  },
  {
   "cell_type": "code",
   "execution_count": 43,
   "metadata": {},
   "outputs": [
    {
     "data": {
      "image/png": "[encoded data removed]",
      "text/plain": [
       "<Figure size 432x288 with 1 Axes>"
      ]
     },
     "metadata": {
      "needs_background": "light"
     },
     "output_type": "display_data"
    }
   ],
   "source": [
    "tracks_playback_count_chart = df_tracks_playback_count.plot.hist(bins = 1000,range=(10000,100000))"
   ]
  },
  {
   "cell_type": "code",
   "execution_count": 44,
   "metadata": {},
   "outputs": [
    {
     "data": {
      "image/png": "[encoded data removed]",
      "text/plain": [
       "<Figure size 432x288 with 1 Axes>"
      ]
     },
     "metadata": {
      "needs_background": "light"
     },
     "output_type": "display_data"
    }
   ],
   "source": [
    "tracks_playback_count_chart = df_tracks_playback_count.plot.hist(bins = 1000,range=(100000,1000000))"
   ]
  },
  {
   "cell_type": "code",
   "execution_count": 45,
   "metadata": {},
   "outputs": [
    {
     "data": {
      "image/png": "[encoded data removed]",
      "text/plain": [
       "<Figure size 432x288 with 1 Axes>"
      ]
     },
     "metadata": {
      "needs_background": "light"
     },
     "output_type": "display_data"
    }
   ],
   "source": [
    "tracks_playback_count_chart = df_tracks_playback_count.plot.hist(bins = 1000,range=(1000000,10000000))"
   ]
  },
  {
   "cell_type": "code",
   "execution_count": 46,
   "metadata": {},
   "outputs": [
    {
     "data": {
      "image/png": "[encoded data removed]",
      "text/plain": [
       "<Figure size 432x288 with 1 Axes>"
      ]
     },
     "metadata": {
      "needs_background": "light"
     },
     "output_type": "display_data"
    }
   ],
   "source": [
    "tracks_playback_count_chart = df_tracks_playback_count.plot.hist(bins = 1000,range=(10000000,df_tracks_playback_count.max()))"
   ]
  },
  {
   "cell_type": "markdown",
   "metadata": {},
   "source": [
    "#### Nhận xét:\n",
    "- Tất cả biểu đồ đều có xu hướng giảm hay nói tỷ lệ nghịch giữa tần suất xuất hiện và giá trị của trường dữ liệu playback_count\n",
    "\n",
    "- Giá trị playback_count càng cao, tuần suất xuất hiện càng ít như khoảng cuối [10000000,max] chỉ có cao nhất là 2 trong khi khoảng đầu [0,10000] là gần 300 ở con số 0"
   ]
  },
  {
   "cell_type": "markdown",
   "metadata": {},
   "source": [
    "### Distplot <a class=\"anchor\" id=\"c3513\"></a>"
   ]
  },
  {
   "cell_type": "markdown",
   "metadata": {},
   "source": [
    "####  Sự thay đổi trong phân phối dữ liệu của thời lượng (Duration)"
   ]
  },
  {
   "cell_type": "code",
   "execution_count": 47,
   "metadata": {},
   "outputs": [
    {
     "data": {
      "text/plain": [
       "<seaborn.axisgrid.FacetGrid at 0x1e185d18be0>"
      ]
     },
     "execution_count": 47,
     "metadata": {},
     "output_type": "execute_result"
    },
    {
     "data": {
      "image/png": "[encoded data removed]",
      "text/plain": [
       "<Figure size 360x360 with 1 Axes>"
      ]
     },
     "metadata": {
      "needs_background": "light"
     },
     "output_type": "display_data"
    }
   ],
   "source": [
    "sns.displot(df_tracks_duration,bins=[0,1000,10000,1000000,10000000,20000000,df_tracks_duration.max()])"
   ]
  },
  {
   "cell_type": "markdown",
   "metadata": {},
   "source": [
    "#### Nhận xét:\n",
    "Đối với distplot ở trường dữ liệu Duration, nếu histogram ở các khoảng khác nhau thể hiện tỷ lệ khác nhau, displot lại có xu hướng tỷ lệ nghịch khi các số cận 0 ở mức 8000 trong khi các số sau đó giảm dần đều\n",
    "\n",
    "Tuy các số cận 0 xuất hiện rất nhiều nhưng sự đa dạng lại kéo dài tới dưới 10 triệu và bắt đầu có sự sụt giảm đáng kể khi từ 10 triệu tới 20 triệu chiếm rát ít, chỉ khoảng dưới 200\n",
    "\n",
    "Từ 20 triệu trở lên càng nhỏ tới mức khó có thể thấy và dừng lại ở cận 25 triệu. Ta có thể thấy phần lớn các track các playlist lấy được tập trung dưới 10 triệu giây."
   ]
  },
  {
   "cell_type": "markdown",
   "metadata": {},
   "source": [
    "### Boxplot <a class=\"anchor\" id=\"c3514\"></a>"
   ]
  },
  {
   "cell_type": "markdown",
   "metadata": {},
   "source": [
    "- [Boxplot](#c3514) là một cách tiêu chuẩn hóa để hiển thị phân phối dữ liệu dựa trên tóm tắt năm số liệu (“tối thiểu”, phần tư thứ nhất (Q1), trung vị, phần tư thứ ba (Q3) và “tối đa”). [Boxplot](#c3514) có thể cho chúng ta biết về những ngoại lệ và giá trị của chúng. Nó cũng có thể cho chúng ta biết liệu dữ liệu có đối xứng hay không, dữ liệu được nhóm chặt chẽ như thế nào và nếu và cách dữ liệu của bạn bị lệch\n",
    "- Ở phần này, chúng ta dùng [Boxplot](#c3514) để xem xét những số lượng về thống kê như vừa nói, để có cái nhìn trực quan về sự phân bố của dữ liệu"
   ]
  },
  {
   "cell_type": "markdown",
   "metadata": {},
   "source": [
    "#### Thống kê về số lượng track của các users"
   ]
  },
  {
   "cell_type": "code",
   "execution_count": 48,
   "metadata": {},
   "outputs": [
    {
     "data": {
      "image/png": "[encoded data removed]",
      "text/plain": [
       "<Figure size 720x504 with 1 Axes>"
      ]
     },
     "metadata": {
      "needs_background": "light"
     },
     "output_type": "display_data"
    }
   ],
   "source": [
    "tracks = df_users['track_count']\n",
    "fig = plt.figure(figsize =(10, 7))\n",
    "plt.boxplot(tracks)\n",
    "plt.show()"
   ]
  },
  {
   "cell_type": "markdown",
   "metadata": {},
   "source": [
    "#### Nhận xét:\n",
    "- Sau khi chúng ta thực hiện trực quan [Boxplot](#c3514) cho tổng số tracks cho tất cả các users thì có được kết quả như trên.\n",
    "- Kết quả trên cho thấy giá trị đang phân bổ gần như chia thành nhiều tập khác nhau, vừa có dữ liệu tập trung nhiều khoảng 0 -> 50 và cũng tập trung nhiều khoảng lớn hơn 50.\n",
    "- Do đó, chúng ta sẽ chia tập dữ liệu thành 3 phần và trực quan hóa [Boxplot](#c3514) để có thể thấy được giá trị thống kê một cách cụ thể hơn.\n",
    "\n",
    "#### Kết luận:\n",
    "- Từ những nhận xét trên, chúng ta có thể rút trích được 1 kết luận ngắn gọn như sau: Sự phân bổ các tracks của users được tập trung thành 3 nhóm:\n",
    "    - Một nhóm người có số track < 50: Có lẽ là người mới chơi nhạc,...\n",
    "    - Một nhóm người có số track trong khoảng 50 -> 250: Những người chơi nhạc và yêu thích ?\n",
    "    - Và còn lại một nhóm người có số track > 250: Người chơi nhạc lâu năm và \"sống, ăn\" với nhạc ?"
   ]
  },
  {
   "cell_type": "markdown",
   "metadata": {},
   "source": [
    "#### Thống kê về số lượng track của các users trong khoảng nhỏ hơn 50"
   ]
  },
  {
   "cell_type": "code",
   "execution_count": 49,
   "metadata": {},
   "outputs": [
    {
     "data": {
      "image/png": "[encoded data removed]",
      "text/plain": [
       "<Figure size 720x504 with 1 Axes>"
      ]
     },
     "metadata": {
      "needs_background": "light"
     },
     "output_type": "display_data"
    }
   ],
   "source": [
    "tracks_small = tracks[tracks < 50]\n",
    "fig = plt.figure(figsize =(10, 7))\n",
    "plt.boxplot(tracks_small)\n",
    "plt.show()"
   ]
  },
  {
   "cell_type": "markdown",
   "metadata": {},
   "source": [
    "#### Nhận xét:\n",
    "Dựa vào trực quan, ta có những nhận xét về các số liệu thống kê sau:\n",
    "- Trung vị nằm ở mức khoảng 2 bài track: Có nghĩa là có khoảng 50% số người có số lượng tracks nhỏ hơn 50 thì có số track nhỏ hơn 2 bài. Và có khoảng 50% số người có số lượng tracks nhỏ hơn 50 và lớn hơn 2 bài hát\n",
    "- Giá trị nhỏ nhất là 0 bài\n",
    "- Những điểm \"outlier\" nằm bên trên 25 bài cũng khá lớn\n",
    "\n",
    "#### Kết luận:\n",
    "- Số lượng track ít khoảng nhỏ hơn 2 chứng tỏ nhiều users chỉ thích nghe nhạc, và mới tạo tài khoản chăng ?\n",
    "- Và số lượng người có lớn hơn 2 track cũng nhiều, thể hiện âm nhạc có lẽ làm 1 phần của cuộc sống vui vẻ, thư giản ? "
   ]
  },
  {
   "cell_type": "markdown",
   "metadata": {},
   "source": [
    "#### Thống kê về số lượng track của các users trong khoảng 50 đến 250"
   ]
  },
  {
   "cell_type": "code",
   "execution_count": 50,
   "metadata": {},
   "outputs": [
    {
     "data": {
      "image/png": "[encoded data removed]",
      "text/plain": [
       "<Figure size 720x504 with 1 Axes>"
      ]
     },
     "metadata": {
      "needs_background": "light"
     },
     "output_type": "display_data"
    }
   ],
   "source": [
    "tracks_medium = tracks[(tracks > 50) & (tracks < 250)]\n",
    "fig = plt.figure(figsize =(10, 7))\n",
    "plt.boxplot(tracks_medium)\n",
    "plt.show()"
   ]
  },
  {
   "cell_type": "markdown",
   "metadata": {},
   "source": [
    "#### Nhận xét:\n",
    "Dựa vào trực quan, ta có những nhận xét về các số liệu thống kê sau:\n",
    "- Trung vị nằm ở mức khoảng 2 bài track: Có nghĩa là có khoảng 50% số người có số lượng tracks trong khoảng 50 đến 250 thì có số track nhỏ hơn 85 tracks. Và có khoảng 50% số người có số lượng tracks trong khoảng 50 đến 250 và lớn hơn 85 tracks\n",
    "- Từ biểu đồ trực quan trên, ta nhận thấy khoảng dữ liệu tập trung phân bố nhiều khoảng từ 75 đến 125. Có vài điểm dữ liệu làm cho biểu đồ bị lệch về bên phải\n",
    "\n",
    "#### Kết luận:\n",
    "- Cũng kha khá người có xu hướng chơi nhạc, và cho ra mắt nhiều bản nhạc hơn so với ngày xưa. Cũng một phần cho thấy âm nhậc thực sự đổi mới và phát triển, nó cũng là một phần trong cuộc sống cuả mỗi người"
   ]
  },
  {
   "cell_type": "markdown",
   "metadata": {},
   "source": [
    "#### Thống kê về số lượng track của các users trong khoảng lớn hơn 250"
   ]
  },
  {
   "cell_type": "code",
   "execution_count": 51,
   "metadata": {},
   "outputs": [
    {
     "data": {
      "image/png": "[encoded data removed]",
      "text/plain": [
       "<Figure size 720x504 with 1 Axes>"
      ]
     },
     "metadata": {
      "needs_background": "light"
     },
     "output_type": "display_data"
    }
   ],
   "source": [
    "tracks_high = tracks[tracks > 250]\n",
    "fig = plt.figure(figsize =(10, 7))\n",
    "plt.boxplot(tracks_high)\n",
    "plt.show()"
   ]
  },
  {
   "cell_type": "markdown",
   "metadata": {},
   "source": [
    "#### Nhận xét:\n",
    "Dựa vào trực quan, ta có những nhận xét về các số liệu thống kê sau:\n",
    "- Từ kết quả của biểu đồ trực quan, ta có thể thấy trung vị nằm ở khoảng 500 tracks\n",
    "- Một vài điểm dữ liệu nằm ngoài biểu đổ, tập trung ở khoảng 1200 -> 1650 tracks\n",
    "- Biểu đồ của dữ liệu ở khoảng lớn hơn 250 tracks khá là đối xứng.\n",
    "\n",
    "#### Kết luận:\n",
    "- Một vài users \"lão luyện\" có số track hơn 1000, đây thực sự là những ca sĩ nổi tiếng chăng ?\n",
    "- Biểu đồ tương đối đối xứng cho thấy sự cân bằng của các user giữa khoảng 500 tracks\n",
    "- Những users được trực quan ở đây có thể là những người chơi lâu năm, những người cống hiến cho nền âm nhạc, và âm nhạc là một phần trong cuộc sống của họ."
   ]
  },
  {
   "cell_type": "markdown",
   "metadata": {},
   "source": [
    "#### Trực quan hoá mối quan hệ đa biến <a class=\"anchor\" id=\"c352\"></a>"
   ]
  },
  {
   "cell_type": "markdown",
   "metadata": {},
   "source": [
    "### Correlation Matrix <a class=\"anchor\" id=\"c3521\"></a>"
   ]
  },
  {
   "cell_type": "markdown",
   "metadata": {},
   "source": [
    "- Trong [Correlation Matrix](#c3521), chúng ta trực quan dữ liệu để tìm mối quan hệ giữa các thuộc tính với nhau.\n",
    "- Biểu đồ có dạng ma trận n x n số thuộc tính tổng cộng:\n",
    "    - Nếu tại ô đó có giá trị càng lớn, thì độ tương quan của hai thuộc tính đó càng lớn (có mối quan hệ nào đó với nhau)\n",
    "    - Nếu tại ô đó có giá trị càng nhỏ, thì độ tương quan giữa hai thụôc tính đó càng nhỏ (hai thuộc tính có vẻ không liên quan với nhau)"
   ]
  },
  {
   "cell_type": "markdown",
   "metadata": {},
   "source": [
    "####  Tìm mối tương quan giữa các trường dữ liệu trong tập dữ liệu playlists"
   ]
  },
  {
   "cell_type": "code",
   "execution_count": 52,
   "metadata": {},
   "outputs": [
    {
     "data": {
      "text/plain": [
       "<AxesSubplot:>"
      ]
     },
     "execution_count": 52,
     "metadata": {},
     "output_type": "execute_result"
    },
    {
     "data": {
      "image/png": "[encoded data removed]",
      "text/plain": [
       "<Figure size 432x432 with 2 Axes>"
      ]
     },
     "metadata": {
      "needs_background": "light"
     },
     "output_type": "display_data"
    }
   ],
   "source": [
    "fig = plt.figure(figsize=(6,6))\n",
    "corr = df_playlists.select_dtypes(include = ['float64', 'int64']).corr()\n",
    "sns.heatmap(corr, annot = True, fmt = '.2f')"
   ]
  },
  {
   "cell_type": "markdown",
   "metadata": {},
   "source": [
    "**Biểu đồ của tập dữ liệu playlists**\n",
    "- Chúng ta thể hiện trực quan cho các thuộc tính số gồm: \"id\", \"user_id\", \"likes_count\", \"reposts_count\"\n",
    "- Nhìn vào biểu đồ trên, ta thấy hai thuộc tính \"reposts_count\" và \"likes_count\" có giá trị lớn nhất. Có nghĩa là hai thuộc tính này có mối quan hệ nào đó với nhau. Ở đây ta có thể dự đoán rằng, nếu như bài hát được repost lại nhiều đồng nghĩa với số lượng người yêu thích bài hát đó cũng nhiều.\n",
    "- Ngược lại, cặp thuộc tính với \"id\" và \"user_id\" thì có giá trị rất nhỏ. Nghĩa là mối quan hệ của các cặp đó hầu như không có."
   ]
  },
  {
   "cell_type": "markdown",
   "metadata": {},
   "source": [
    "####  Tìm mối tương quan giữa các trường dữ liệu trong tập dữ liệu tracks"
   ]
  },
  {
   "cell_type": "code",
   "execution_count": 53,
   "metadata": {},
   "outputs": [
    {
     "data": {
      "text/plain": [
       "<AxesSubplot:>"
      ]
     },
     "execution_count": 53,
     "metadata": {},
     "output_type": "execute_result"
    },
    {
     "data": {
      "image/png": "[encoded data removed]",
      "text/plain": [
       "<Figure size 432x432 with 2 Axes>"
      ]
     },
     "metadata": {
      "needs_background": "light"
     },
     "output_type": "display_data"
    }
   ],
   "source": [
    "fig = plt.figure(figsize=(6,6))\n",
    "corr = df_tracks.select_dtypes(include = ['float64', 'int64']).corr()\n",
    "sns.heatmap(corr, annot = True, fmt = '.2f')"
   ]
  },
  {
   "cell_type": "markdown",
   "metadata": {},
   "source": [
    "**Biểu đồ của tập dữ liệu tracks**\n",
    "- Chúng ta thể hiện trực quan cho các thuộc tính số gồm: \"id\", \"user_id\", \"comment_count\", \"duration\", \"likes_count\", \"playback_count\", \"reposts_count\".\n",
    "- Kết quả trên ta có thể thấy cặp thuộc tính \"likes_count\" và \"playback_count\" có giá trị 0.99 (gần bằng 1) cho thấy hai cặp thuộc tính này có độ tương quan rất lớn. Độ tương quan này có thể giải thích như sau, nếu như bài hát có số lượt nghe tăng nhiều đồng nghĩa với số lượng yêu thích mà người dùng bình chọn cũng tăng nhiều.\n",
    "- Các cặp thuộc tính có độ tương quan lớn như: \"comment_count\" và \"likes_count\", \"comment_count\" và \"reposts_count\", \"comment_count\" và \"playback_count\", \"likes_count\" và \"reposts_count\", \"playback_count\" và \"reposts_count\". Các cặp thuôc tính này đều có giá trị độ tương quan trên 0.8, thể hiện mối quan hệ giữa từng thuộc tính chặt chẽ với nhau.\n",
    "- Các cặp thuộc tinh còn lại được thể hiện với thuộc tính \"id\", \"user_id\" thì gần như không có độ tương quan nào cả. "
   ]
  },
  {
   "cell_type": "markdown",
   "metadata": {},
   "source": [
    "####  Tìm mối tương quan giữa các trường dữ liệu trong tập dữ liệu users"
   ]
  },
  {
   "cell_type": "code",
   "execution_count": 54,
   "metadata": {},
   "outputs": [
    {
     "data": {
      "text/plain": [
       "<AxesSubplot:>"
      ]
     },
     "execution_count": 54,
     "metadata": {},
     "output_type": "execute_result"
    },
    {
     "data": {
      "image/png": "[encoded data removed]",
      "text/plain": [
       "<Figure size 576x576 with 2 Axes>"
      ]
     },
     "metadata": {
      "needs_background": "light"
     },
     "output_type": "display_data"
    }
   ],
   "source": [
    "fig = plt.figure(figsize=(8,8))\n",
    "corr = df_users[df_users.columns.difference(['groups_count'])]\n",
    "corr = corr.select_dtypes(include = ['float64', 'int64']).corr()\n",
    "sns.heatmap(corr, annot = True, fmt = '.2f')"
   ]
  },
  {
   "cell_type": "markdown",
   "metadata": {},
   "source": [
    "**Biểu đồ của tập dữ liệu users**\n",
    "- Chúng ta thể hiện trực quan cho các thuộc tính số gồm: \"id\", \"comments_count\", \"followers_count\", \"followings_count\", \"likes_count\", \"playlist_count\", \"playlist_likes_count\", \"track_count\".\n",
    "- Nhìn vào giá trị của độ tương quan từ cao đến thấp:\n",
    "    - Cặp thuộc tính \"playlist_count\" và \"track_count\" có giá trị 0.87. Điều này chỉ ra rằng chúng có mối tương quan chặt chẽ với nhau. Có thể giải thích độ tương quan này là nếu như một user có số lượng playlist càng nhiều, thì số lượng track của họ cũng tăng theo đó.\n",
    "    - Độ tương quan trung bình là cặp thuộc tính \"likes_count\" và \"playlist_likes_count\", có giá trị 0.67. Điều này cho thấp độ tương quan của hai thuộc tính này là tương đối, có thể đúng hay có thể sai. Có thể giải thích độ tương quan này như sau: Giả sử một user có yêu thích bài hát đó, thì cũng đồng thời yêu thích cả playlist mà chứa bài hát đó.\n",
    "    - Các cặp thuộc tính còn lại có độ tương quan thấp hơn, nên mối quan hệ giữa hai thuộc tính trong các cặp đó gần như là rời rạc."
   ]
  },
  {
   "cell_type": "markdown",
   "metadata": {},
   "source": [
    "### Scatter plot <a class=\"anchor\" id=\"c3522\"></a>"
   ]
  },
  {
   "cell_type": "markdown",
   "metadata": {},
   "source": [
    "- Sau khi chúng ta tìm độ tương quan của các cặp dữ liệu bằng biểu đồ [Correlation matrix](#c3521) bên trên. Nhờ vào kết quả đó, chúng ta thấy được mối quan hệ giữa các biến trong 3 tập dữ liệu của chúng ta.\n",
    "- Để có thể khám phá và có cái nhìn trực quan hơn, ở trong phần này chúng ta sẽ dùng một biểu đồ trong nhóm biểu đồ đa biến được gọi là [Scatterplot](#c3522)\n",
    "- [Scatterplot](#c3522) là một loại biểu đồ hoặc sơ đồ toán học sử dụng tọa độ Descartes để hiển thị các giá trị cho hai biến điển hình cho một tập dữ liệu. Nhờ vào sự hiển thị của các điểm dữ liệu, ta có thể rút trích ra nhiều kết luận cho dữ liệu của chúng ta"
   ]
  },
  {
   "cell_type": "markdown",
   "metadata": {},
   "source": [
    "#### Mối quan hệ giữa số lương track sở hữu bởi 1 user và số lượng người theo dõi của user đó"
   ]
  },
  {
   "cell_type": "code",
   "execution_count": 55,
   "metadata": {},
   "outputs": [
    {
     "data": {
      "image/png": "[encoded data removed]",
      "text/plain": [
       "<Figure size 432x288 with 1 Axes>"
      ]
     },
     "metadata": {
      "needs_background": "light"
     },
     "output_type": "display_data"
    }
   ],
   "source": [
    "df_users.plot.scatter(x = 'track_count', y = 'followers_count');\n"
   ]
  },
  {
   "cell_type": "markdown",
   "metadata": {},
   "source": [
    "#### Nhận xét:\n",
    "- Biểu đồ trên trực quan hóa mối quan hệ giữa số lương track sở hữu bởi 1 user(track_count) và số lượng người theo dõi của user đó (follower_count)\n",
    "- Nhìn vào biểu đồ ta thấy sự phấn đồng đều giữa giữa hai đại lượng trên,tức là không có mỗi quan hệ tỉ lệ giữa hai đại lượng trên\n",
    "- Có những giá trị outline có số track và follower rất lớn nhưng không đáng kể , đó có thể là tài khoảng của những người nổi tiếng, hoặc tài khoản của cách công ty trong âm nhạc\n",
    "- Đa số các user đều sở hữu dưới khoảng 400 bài và có lượng người theo dõi dưới khoảng 15000"
   ]
  },
  {
   "cell_type": "markdown",
   "metadata": {},
   "source": [
    "Bỏ đi các giá trị outliner, ta chỉ xét các giá trị là một user bình thường"
   ]
  },
  {
   "cell_type": "code",
   "execution_count": 56,
   "metadata": {},
   "outputs": [
    {
     "data": {
      "text/plain": [
       "(0.0, 15000.0)"
      ]
     },
     "execution_count": 56,
     "metadata": {},
     "output_type": "execute_result"
    },
    {
     "data": {
      "image/png": "[encoded data removed]",
      "text/plain": [
       "<Figure size 432x288 with 1 Axes>"
      ]
     },
     "metadata": {
      "needs_background": "light"
     },
     "output_type": "display_data"
    }
   ],
   "source": [
    "df_users.plot.scatter(x = 'track_count', y = 'followers_count');\n",
    "plt.xlim([0, 400])\n",
    "plt.ylim([0,15000 ])"
   ]
  },
  {
   "cell_type": "markdown",
   "metadata": {},
   "source": [
    "#### Nhận xét:\n",
    "- Ở nhiều đồ này , tan nhìn thấy rõ hơn mối quang hệ giữa ố lương track sở hữu bởi 1 user(track_count) và số lượng người theo dõi của user đó (follower_count)\n",
    "- Với một user bình thường , đa số sợ hữu rất ít track ( khoảng dưới 50 ) với rất ít người theo dỗi\n",
    "- Bên cạnh đó , cũng có cách tài khoảng có số lượng follower rất cao ( trên 2000 ) , mặc dù sợ hữa rất ít track, đây có thể là những nghệ sỹ ít nỗi tiếng hơn, có ít bài hát , nhưng là những hát có chất lượng tốt , dẫn đến số follower rất cao\n",
    "- Tóm lại , số lương track sở hữu bởi 1 user và số lượng người theo dõi của user đó không có mỗi liên hệ với nhau , có thể chất lượng của track mới là yếu tố ảnh hưởng đến số lượng follower"
   ]
  },
  {
   "cell_type": "markdown",
   "metadata": {},
   "source": [
    "#### Mối quan hệ tương quan giữa số lượt like và comment bởi một user"
   ]
  },
  {
   "cell_type": "code",
   "execution_count": 57,
   "metadata": {},
   "outputs": [
    {
     "data": {
      "image/png": "[encoded data removed]",
      "text/plain": [
       "<Figure size 432x288 with 1 Axes>"
      ]
     },
     "metadata": {
      "needs_background": "light"
     },
     "output_type": "display_data"
    }
   ],
   "source": [
    "df_users.plot.scatter(x = 'likes_count', y = 'comments_count');"
   ]
  },
  {
   "cell_type": "markdown",
   "metadata": {},
   "source": [
    "#### Nhận xét:\n",
    "- Biểu đồ trên trực quan hóa mối quan hệ tương quan giữa số lượt like và comment bởi một user\n",
    "- Nhìn vào biểu đồ thấy đa số các điểm phần phố đều và tập trung ở khoảng (0, 2000) cho số lượng comment và like\n",
    "- Có tồn tại outliner những chiếm số lượng rất nhỏ"
   ]
  },
  {
   "cell_type": "markdown",
   "metadata": {},
   "source": [
    "Ta sẽ loại bỏ đi giá trị outliner "
   ]
  },
  {
   "cell_type": "code",
   "execution_count": 58,
   "metadata": {},
   "outputs": [
    {
     "data": {
      "text/plain": [
       "(0.0, 2000.0)"
      ]
     },
     "execution_count": 58,
     "metadata": {},
     "output_type": "execute_result"
    },
    {
     "data": {
      "image/png": "[encoded data removed]",
      "text/plain": [
       "<Figure size 432x288 with 1 Axes>"
      ]
     },
     "metadata": {
      "needs_background": "light"
     },
     "output_type": "display_data"
    }
   ],
   "source": [
    "df_users.plot.scatter(x = 'likes_count', y = 'comments_count');\n",
    "plt.xlim([0, 2000])\n",
    "plt.ylim([0,2000 ])"
   ]
  },
  {
   "cell_type": "markdown",
   "metadata": {},
   "source": [
    "#### Nhận xét:\n",
    "- Sau khi đã loại bỏ outliner:\n",
    "   - Đa số sô giá trị tập trung ở khoảng (0, 250) cho lượt comment , và ( 0,750 ) cho số lượt like\n",
    "- Ta thấy cách giá trị vẫn phần bố đều trên biểu đ, chứng tổ sôl lượt like và comment không có mốt quan hệ tương quan với nhau\n",
    "- Các giá trị tập trung đa số theo chiều ngang , điều này chứng tổ người dùng có xu hướng chọn tương tác bằng cách chọn like hơn là để lại comment"
   ]
  },
  {
   "cell_type": "markdown",
   "metadata": {},
   "source": [
    "#### Mối quan hệ tương quan giữa số lượt nghe (playback) và thích (like) của bài hát (tracks)"
   ]
  },
  {
   "cell_type": "code",
   "execution_count": 59,
   "metadata": {},
   "outputs": [
    {
     "data": {
      "image/png": "[encoded data removed]",
      "text/plain": [
       "<Figure size 432x288 with 1 Axes>"
      ]
     },
     "metadata": {
      "needs_background": "light"
     },
     "output_type": "display_data"
    }
   ],
   "source": [
    "df_tracks.plot.scatter(x = 'playback_count', y = 'likes_count');"
   ]
  },
  {
   "cell_type": "markdown",
   "metadata": {},
   "source": [
    "#### Nhận xét:\n",
    "- Biểu đồ trên trực quan hóa mối quan hệ giữa lượt thích (like) và số lượt nghe (playback) trong tập dữ liệu tracks\n",
    "- Nhờ sự đơn giản và trực quan hóa của biểu đồ, ta có thể thấy 2 trường trên có mối quan hệ đồng biến.\n",
    "- Khi số lượng lượt nghe tăng, đồng nghĩa số lượng yêu thích của bài hát đó cũng tăng.\n",
    "- Các điểm dữ liệu dường như nằm trên cùng một đường thẳng (linear), nó thể hiện độ tuyến tính của dữ liệu.\n",
    "- Đây là một kết quả có thể giúp chúng ta dự đoán được các giá trị khác bằng cách áp dụng Linear Regression"
   ]
  },
  {
   "cell_type": "markdown",
   "metadata": {},
   "source": [
    "### Pie chart và bar chart <a class=\"anchor\" id=\"c3523\"></a>"
   ]
  },
  {
   "cell_type": "markdown",
   "metadata": {},
   "source": [
    "- [Pie chart](#c3523) cũng là một biểu đồ trong nhóm đa biến, một biểu đồ đồ họa thống kê hình tròn, được chia thành các phần để giải thích hoặc minh họa tỷ lệ số. Trong biểu đồ hình tròn, góc trung tâm, diện tích và độ dài cung của mỗi lát cắt tỷ lệ với số lượng hoặc tỷ lệ phần trăm mà nó biểu thị.\n",
    "- [Bar chart](#c3523) là một phương tiện hữu ích trong việc mô tả (trực quan hóa) dữ liệu. Nó có thể được sử dụng để hiển thị số lượng (tức là tần suất) của các loại của một biến danh định hoặc thứ tự\n",
    "- Ở trong phần này, chúng ta sử dụng [Pie chart](#c3523) và [Bar chart](#c3523) để biểu diễn dữ liệu của chúng ta, xem tập dữ liệu chúng ta được chia theo bao nhiêu thể loại, và mỗi thể loại sẽ chiếm bao nhiêu phần..."
   ]
  },
  {
   "cell_type": "markdown",
   "metadata": {},
   "source": [
    "#### Tỉ lệ thành phần thể loại của các track trong mẫu dữ liệu"
   ]
  },
  {
   "cell_type": "markdown",
   "metadata": {},
   "source": [
    "- Đầu tiên ta xem xét các thể loại tồn tại trong mẫu"
   ]
  },
  {
   "cell_type": "code",
   "execution_count": 60,
   "metadata": {},
   "outputs": [
    {
     "data": {
      "text/plain": [
       "0             Electronic\n",
       "1             Electronic\n",
       "2             Electronic\n",
       "3             Electronic\n",
       "4             Electronic\n",
       "             ...        \n",
       "995    OBM Records Prod.\n",
       "996                House\n",
       "997                 None\n",
       "998           Electronic\n",
       "999           Deep Disco\n",
       "Name: genre, Length: 1000, dtype: object"
      ]
     },
     "execution_count": 60,
     "metadata": {},
     "output_type": "execute_result"
    }
   ],
   "source": [
    "df_tracks['genre'].head(1000)"
   ]
  },
  {
   "cell_type": "code",
   "execution_count": 61,
   "metadata": {},
   "outputs": [
    {
     "data": {
      "text/plain": [
       "count     10854\n",
       "unique     1973\n",
       "top        None\n",
       "freq       1558\n",
       "Name: genre, dtype: object"
      ]
     },
     "execution_count": 61,
     "metadata": {},
     "output_type": "execute_result"
    }
   ],
   "source": [
    "df_tracks['genre'].describe()"
   ]
  },
  {
   "cell_type": "code",
   "execution_count": 62,
   "metadata": {},
   "outputs": [
    {
     "data": {
      "text/plain": [
       "array(['Electronic', 'SuperSpeedPowerPop', 'None', ..., 'Gabriel Le Mar',\n",
       "       'Electronic Music', 'TechHouse'], dtype=object)"
      ]
     },
     "execution_count": 62,
     "metadata": {},
     "output_type": "execute_result"
    }
   ],
   "source": [
    "df_tracks[\"genre\"].unique()"
   ]
  },
  {
   "cell_type": "markdown",
   "metadata": {},
   "source": [
    "- Thấy rằng có 10854 track , trong đó thuộc 1973 thể loại khác nhau , tuy nhiên đa số thể loại bị thiếu ( None ) , ta sẽ loại bổ các track có giá trị None"
   ]
  },
  {
   "cell_type": "code",
   "execution_count": 63,
   "metadata": {},
   "outputs": [],
   "source": [
    "not_none=df_tracks[\"genre\"]!='None'\n",
    "df_tracks_notNull=df_tracks[not_none]"
   ]
  },
  {
   "cell_type": "code",
   "execution_count": 64,
   "metadata": {},
   "outputs": [
    {
     "data": {
      "text/plain": [
       "genre\n",
       "\"Dancepop\" (Dance/Eurodance/Dancepop)    2\n",
       "\"Pop\"                                    6\n",
       "#BORDERLINE OBJEKTIV SUBJEKT             1\n",
       "$ayonara.                                1\n",
       "( ͡° ͜ʖ ͡°)                              1\n",
       "                                        ..\n",
       "♥                                        1\n",
       "✌                                        1\n",
       "❆❅❉                                      1\n",
       "『drum+bass』                              1\n",
       "宇多田ヒカル                                   1\n",
       "Length: 1972, dtype: int64"
      ]
     },
     "execution_count": 64,
     "metadata": {},
     "output_type": "execute_result"
    }
   ],
   "source": [
    "genre_count_series=df_tracks_notNull.groupby(['genre']).size()\n",
    "genre_count_series"
   ]
  },
  {
   "cell_type": "markdown",
   "metadata": {},
   "source": [
    "- Tiếp theo , soundcloud cho phép người dùng tự dô đặt tả cho trường **thể loại** của track , nên sẽ tồn tại các thể loại vô nghĩa , ta sẽ loại bỏ chúng bằng cách chỉ chọn cách thể loại phổ biến , tức, số bài hết thuộc thể loại đó phải lớn hơn **100** "
   ]
  },
  {
   "cell_type": "code",
   "execution_count": 65,
   "metadata": {},
   "outputs": [
    {
     "data": {
      "text/plain": [
       "genre\n",
       "Pop            105\n",
       "Disco          111\n",
       "Ambient        204\n",
       "Dance          236\n",
       "Deep House     399\n",
       "House          581\n",
       "Techno        1089\n",
       "Electronic    1546\n",
       "dtype: int64"
      ]
     },
     "execution_count": 65,
     "metadata": {},
     "output_type": "execute_result"
    }
   ],
   "source": [
    "genre_count_series= genre_count_series[genre_count_series>100].sort_values()\n",
    "genre_count_series"
   ]
  },
  {
   "cell_type": "markdown",
   "metadata": {},
   "source": [
    "##### Biểu đồ Pie chart và Bar chart thể hiện sự phân bổ của các thể loại bài hát (track)"
   ]
  },
  {
   "cell_type": "code",
   "execution_count": 66,
   "metadata": {},
   "outputs": [
    {
     "data": {
      "image/png": "[encoded data removed]",
      "text/plain": [
       "<Figure size 720x720 with 1 Axes>"
      ]
     },
     "metadata": {},
     "output_type": "display_data"
    }
   ],
   "source": [
    "plt.figure(figsize=(10, 10), dpi=72)\n",
    "plt.pie(genre_count_series,labels = genre_count_series.index, autopct='%1.2f',startangle=90)\n",
    "plt.show()"
   ]
  },
  {
   "cell_type": "markdown",
   "metadata": {},
   "source": [
    "- Để hiểu rõ hơn về số liệu, ta có thể dùng bar chart để biểu thị số lượng của từng thể loại trong mẫu"
   ]
  },
  {
   "cell_type": "code",
   "execution_count": 67,
   "metadata": {},
   "outputs": [
    {
     "data": {
      "image/png": "[encoded data removed]",
      "text/plain": [
       "<Figure size 720x720 with 1 Axes>"
      ]
     },
     "metadata": {
      "needs_background": "light"
     },
     "output_type": "display_data"
    }
   ],
   "source": [
    "fig, ax = plt.subplots(figsize=(10, 10))\n",
    "ax = genre_count_series.plot.bar(x='genre', rot=0)"
   ]
  },
  {
   "cell_type": "markdown",
   "metadata": {},
   "source": [
    "#### Nhận xét:\n",
    "- Biểu đồ trên trực quan hóa tỉ lệ thành phần thể loại của các track trong mẫu dữ liệu\n",
    "- Nhìn vào biểu đồ , ta thấy đa số thể lại thuộc thể loại **Electronic** ( chiếm 36,2% ) tiếp theo là **Techno** ( chiếm 25,5%) , **House** ( 13,6%) , **Deep House** ( 9,43% ) , **Dance** (5,53 % ), **Ambient** (4,78%), **Disco** (2,6% ), **Pop** ( 2,46% )\n",
    "- Tuy đây không phải là kết quả chính xác nhất , vì nhiều bài hát thiếu giá trị của trường **thể loại** đã bị loại bỏ , hay cách bài hát dô user tự đặc tả , tuy nhiên chỉ chiếm thiểu số , sẽ không ảnh hướng quá nhiều đến việc trực quan hoá\n"
   ]
  },
  {
   "cell_type": "markdown",
   "metadata": {},
   "source": [
    "### Jointplot <a class=\"anchor\" id=\"c3524\"></a>"
   ]
  },
  {
   "cell_type": "markdown",
   "metadata": {},
   "source": [
    "- [Jointplot](#c3524) cũng là một biểu đồ trong nhóm trực quan hóa mối quan hệ đa biến. \n",
    "- Một [Jointplot](#c3524) bao gồm ba biểu đồ con. Trong số ba biểu đồ, một biểu đồ hiển thị biểu đồ hai biến cho biết biến phụ thuộc (dependent variable) thay đổi như thế nào với biến độc lập (independent variable). Một biểu đồ khác được đặt theo chiều ngang ở trên cùng của biểu đồ đa biến và biểu đó đó cho thấy sự phân phối của biến độc lập (X), tương tự cho biểu đồ còn lại bên phải."
   ]
  },
  {
   "cell_type": "markdown",
   "metadata": {},
   "source": [
    "##### Mối quan hệ và sư phân bổ của số lượng bài hát (track_count) với số lượng playlist (playlist_count)"
   ]
  },
  {
   "cell_type": "code",
   "execution_count": 68,
   "metadata": {},
   "outputs": [
    {
     "data": {
      "image/png": "[encoded data removed]",
      "text/plain": [
       "<Figure size 432x432 with 3 Axes>"
      ]
     },
     "metadata": {
      "needs_background": "light"
     },
     "output_type": "display_data"
    }
   ],
   "source": [
    "sns.jointplot(x = \"playlist_count\", y = \"track_count\",\n",
    "              kind = \"reg\", data = df_users)\n",
    "plt.show()"
   ]
  },
  {
   "cell_type": "markdown",
   "metadata": {},
   "source": [
    "#### Kết quả biểu đồ trên cho thấy:\n",
    "- Số lượng dữ liệu tập trung chủ yếu góc trái của trục tọa độ, xoay quanh giá trị 0 -> 500 cho số lượng track (track_count) và 0 -> 50 cho số lượng playlist (playlist_count)\n",
    "- Biểu đồ trên thể hiện chưa tổng quan cho các giá trị tập trung\n",
    "- Nên chúng ta sẽ loại bỏ những dữ liệu nằm ngoài phần góc trái của biểu đồ để chúng ta có thể nhìn rõ biểu đồ trực quan hơn"
   ]
  },
  {
   "cell_type": "code",
   "execution_count": 69,
   "metadata": {},
   "outputs": [],
   "source": [
    "x = df_users[\"playlist_count\"]\n",
    "y = df_users[\"track_count\"]"
   ]
  },
  {
   "cell_type": "code",
   "execution_count": 70,
   "metadata": {},
   "outputs": [
    {
     "data": {
      "text/plain": [
       "0       6\n",
       "1       0\n",
       "2       0\n",
       "3       0\n",
       "4       1\n",
       "       ..\n",
       "1758    1\n",
       "1759    0\n",
       "1760    0\n",
       "1761    8\n",
       "1762    0\n",
       "Name: playlist_count, Length: 1579, dtype: int32"
      ]
     },
     "execution_count": 70,
     "metadata": {},
     "output_type": "execute_result"
    }
   ],
   "source": [
    "x = x[x < 10]\n",
    "x"
   ]
  },
  {
   "cell_type": "code",
   "execution_count": 71,
   "metadata": {},
   "outputs": [
    {
     "data": {
      "text/plain": [
       "0       17\n",
       "1        0\n",
       "2        0\n",
       "3        0\n",
       "4        6\n",
       "        ..\n",
       "1758     5\n",
       "1759     0\n",
       "1760     2\n",
       "1761    66\n",
       "1762     0\n",
       "Name: track_count, Length: 1650, dtype: int32"
      ]
     },
     "execution_count": 71,
     "metadata": {},
     "output_type": "execute_result"
    }
   ],
   "source": [
    "y = y[y < 100]\n",
    "y"
   ]
  },
  {
   "cell_type": "markdown",
   "metadata": {},
   "source": [
    "- Sau khi xem xét, chúng ta sẽ loại bỏ những điểm dữ liệu cho cả 2 tập \"playlist_count\" và \"track_count\":\n",
    "    - Với \"playlist_count\" ta sẽ lấy những user có số playlist < 10\n",
    "    - Còn với \"track_count\" tâ sẽ lấy điểm dữ liệu mà user có số track < 100"
   ]
  },
  {
   "cell_type": "code",
   "execution_count": 72,
   "metadata": {},
   "outputs": [
    {
     "data": {
      "image/png": "[encoded data removed]",
      "text/plain": [
       "<Figure size 432x432 with 3 Axes>"
      ]
     },
     "metadata": {
      "needs_background": "light"
     },
     "output_type": "display_data"
    }
   ],
   "source": [
    "sns.jointplot(x = x, y = y, kind = \"scatter\", data = df_users)\n",
    "plt.show()"
   ]
  },
  {
   "cell_type": "markdown",
   "metadata": {},
   "source": [
    "#### Nhận xét:\n",
    "- Mối quan hệ giữa \"track_count\" và \"playlist_count\" không phải tuyến tính\n",
    "- Dữ liệu cho thấy đa số các user có số lượng track tập trung khoảng 30 tracks và tương ứng với số playlist nằm đa số trong khoảng từ 2 đến 3 playlist là chủ yếu\n",
    "- Biểu đồ marginal plot cũng cho thấy sự phân bố đó:\n",
    "    - Sự phân bổ playlist cao nhất năm ở vùng bên phía trái là khoảng 0 -> 2 playlist\n",
    "    - Sự phân bổ track cũng tương tự, dữ liệu tập trung đa số sát biên bên phải, có giá trị khoảng 0 -> 5 track"
   ]
  },
  {
   "cell_type": "markdown",
   "metadata": {},
   "source": [
    "### Kde plot <a class=\"anchor\" id=\"c3525\"></a>"
   ]
  },
  {
   "cell_type": "markdown",
   "metadata": {},
   "source": [
    "- Trong thống kê, [Kde plot](#c3525) là một cách phi tham số để ước tính hàm mật độ xác suất của một biến ngẫu nhiên. [Kde plot](#c3525) là một bài toán giải pháp nhằm làm mịn dữ liệu cơ bản trong đó các suy luận về dân số được thực hiện dựa trên một mẫu dữ liệu hữu hạn.\n",
    "- Ở phần này, chúng ta dùng [Kde plot](#c3525) để trả lời các câu hỏi về bộ dữ liệu của chúng ta, như là độ phân phối của một feature cụ thể, dạng phân phối, miền giá trị, mức độ tập trung giá trị của feature đang xét."
   ]
  },
  {
   "cell_type": "markdown",
   "metadata": {},
   "source": [
    "#### Mức độ phân phối của số lượng track (track_count)"
   ]
  },
  {
   "cell_type": "code",
   "execution_count": 73,
   "metadata": {},
   "outputs": [
    {
     "data": {
      "image/png": "[encoded data removed]",
      "text/plain": [
       "<Figure size 432x288 with 1 Axes>"
      ]
     },
     "metadata": {
      "needs_background": "light"
     },
     "output_type": "display_data"
    }
   ],
   "source": [
    "sns.kdeplot(df_users['track_count'], fill=True)\n",
    "plt.show()"
   ]
  },
  {
   "cell_type": "markdown",
   "metadata": {},
   "source": [
    "#### Nhận xét\n",
    "- Biểu đồ trên cho ta thấy dạng phân phối của biến \"track_count\" đang lệch phải, một lượng nhỏ dữ liệu nằm trong khoảng từ 250 đến 1750. Cho nên biểu đồ trên không đạt dạng phân phối chuẩn.\n",
    "- Miền giá trị của biểu đồ trải dài từ 0 đến 1750 \n",
    "- Mức độ tập trung giá trị của các điểm dữ liệu chủ yếu quanh miền giá trị từ 0 đến 250 là chủ yếu\n",
    "- Từ những nhận xét trên, ta có thể kết luận các users có số lượng track trung bình trong khoảng nhỏ 0 đến 100 tracks. Có lẽ có một chút ít người có số lượng track lớn, thể hiện ca sĩ nổi tiếng chưa tham gia trên SoundCloud ?"
   ]
  },
  {
   "cell_type": "markdown",
   "metadata": {},
   "source": [
    "## Nguồn tham khảo <a class=\"anchor\" id=\"c4\"></a>"
   ]
  },
  {
   "cell_type": "markdown",
   "metadata": {},
   "source": [
    "- <a href='https://drive.google.com/drive/u/0/folders/1Q4SiCkFViU_ODl__bqHzzHVTvmZ__8QV'>Lecture 04 - Data Visualization </a>\n",
    "- <a href='https://drive.google.com/drive/u/0/folders/1Q4SiCkFViU_ODl__bqHzzHVTvmZ__8QV'>Lecture 05 - Data Preprocessing </a>\n",
    "- <a href='https://matplotlib.org/stable/api/index.html'>Matplot libary </a>\n",
    "- <a href='https://seaborn.pydata.org/index.html'>Seaborn libary </a>"
   ]
  }
 ],
 "metadata": {
  "interpreter": {
   "hash": "b904ab8fb165b7bab7691c6e676e17e8de77589036e31c951fa422c87f57abe5"
  },
  "kernelspec": {
   "display_name": "Python 3 (ipykernel)",
   "language": "python",
   "name": "python3"
  },
  "language_info": {
   "codemirror_mode": {
    "name": "ipython",
    "version": 3
   },
   "file_extension": ".py",
   "mimetype": "text/x-python",
   "name": "python",
   "nbconvert_exporter": "python",
   "pygments_lexer": "ipython3",
   "version": "3.8.8"
  }
 },
 "nbformat": 4,
 "nbformat_minor": 4
}
