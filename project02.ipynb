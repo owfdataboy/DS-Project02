{
 "cells": [
  {
   "cell_type": "markdown",
   "metadata": {},
   "source": [
    "# <center>Đồ án 02 - Phân Tích Dữ Liệu</center>"
   ]
  },
  {
   "cell_type": "markdown",
   "metadata": {},
   "source": [
    "## Mục lục\n",
    "* [Bảng phân công công viêc](#c1)\n",
    "* [Cách chạy Project](#c2)\n",
    "* [Nội dung](#c3)\n",
    "    * [Mong đợi những gì ở dữ liệu ?](#c31)\n",
    "    * [Danh sách kiểm tra phân tích dữ liệu](#c32)\n",
    "    * [Trả lời những câu hỏi về bộ dữ liệu](#c33)    \n",
    "    * [Xóa dữ liệu](#c34)\n",
    "        * [Dữ liệu có bị thiếu ?](#c341)\n",
    "        * [Kiểu dữ liệu](#c342)\n",
    "        * [Kiểm tra ngoại lệ](#c343)\n",
    "        * [Tiền xử lý dữ liệu](#c344)\n",
    "    * [Phân tích khám phá](#c35)\n",
    "        * [Trực quan hoá mối quan hệ đơn biến](#c351)\n",
    "        * [Trực quan hoá mối quan hệ đa biến](#c351)"
   ]
  },
  {
   "cell_type": "markdown",
   "metadata": {},
   "source": [
    "## BẢNG PHÂN CÔNG CÔNG VIỆC <a class=\"anchor\" id=\"c1\"></a>\n",
    "\n",
    "STT&emsp;&emsp;&emsp;&emsp;&emsp;&emsp;Thông tin sinh viên&emsp;&emsp;&emsp;&emsp;&emsp;&emsp;&emsp;&emsp;&emsp;&emsp;Mức độ hoàn thành&emsp;&emsp;&emsp;&emsp;&emsp;&emsp;&emsp;Công việc\n",
    "<br>\n",
    "1&emsp;&emsp;&emsp;&emsp;&emsp;&emsp;&ensp;&ensp;&nbsp;Nguyễn Đăng Thi-19127276&emsp;&emsp;&emsp;&emsp;&emsp;&nbsp;&nbsp;&nbsp;100%&emsp;&emsp;&emsp;&emsp;&emsp;&emsp;&emsp;&nbsp;&nbsp;&nbsp;&ensp;Scatterplot, Pie chart, Bar chart\n",
    "<br>\n",
    "2&emsp;&emsp;&emsp;&emsp;&emsp;&emsp;&emsp;&nbsp;Lê Minh Trí-19127592&emsp;&emsp;&emsp;&emsp;&emsp;&emsp;&emsp;&emsp;&ensp;100%&emsp;&emsp;&emsp;&emsp;&emsp;&emsp;&emsp;&nbsp;&nbsp;&nbsp;&ensp;Histogram, Boxplot\n",
    "<br>\n",
    "3&emsp;&emsp;&emsp;&emsp;&emsp;&emsp;&emsp;&nbsp;Phan Vĩ Giai-19127639&emsp;&emsp;&emsp;&emsp;&emsp;&emsp;&emsp;&emsp;100%&emsp;&emsp;&emsp;&emsp;&emsp;&emsp;&emsp;&nbsp;&nbsp;&nbsp;&ensp;Xóa dữ liệu, Correlation Matrix\n",
    "<br>\n",
    "4&emsp;&emsp;&emsp;&emsp;&emsp;&emsp;&emsp;&nbsp;Võ Nhất Huy-19127642&emsp;&emsp;&emsp;&emsp;&emsp;&emsp;&emsp;&ensp;&nbsp;&nbsp;100%&emsp;&emsp;&emsp;&emsp;&emsp;&emsp;&emsp;&nbsp;&nbsp;&nbsp;&ensp;Trả lời câu hỏi về dữ liệu, Line chart"
   ]
  },
  {
   "cell_type": "markdown",
   "metadata": {},
   "source": [
    "## CÁCH CHẠY PROJECT <a class=\"anchor\" id=\"c2\"></a>\n",
    "**Chọn Kernel -> Restart & Run All**"
   ]
  },
  {
   "cell_type": "markdown",
   "metadata": {},
   "source": [
    "## Nội dung <a class=\"anchor\" id=\"c3\"></a>"
   ]
  },
  {
   "cell_type": "code",
   "execution_count": 1,
   "metadata": {},
   "outputs": [],
   "source": [
    "import math\n",
    "import pandas as pd\n",
    "import numpy as np\n",
    "import matplotlib.pyplot as plt"
   ]
  },
  {
   "cell_type": "code",
   "execution_count": 2,
   "metadata": {},
   "outputs": [],
   "source": [
    "playlists_file = './Api_data/playlists.csv'\n",
    "tracks_file = './Api_data/tracks.csv'\n",
    "users_file = './Api_data/users.csv'"
   ]
  },
  {
   "cell_type": "markdown",
   "metadata": {},
   "source": [
    "<strong>Biến toàn cục</strong>\n",
    "<br>\n",
    "Đọc dữ liệu dưới dạng DataFrame"
   ]
  },
  {
   "cell_type": "code",
   "execution_count": 3,
   "metadata": {},
   "outputs": [],
   "source": [
    "df_playlist = pd.read_csv(playlists_file, delimiter='\\t')\n",
    "df_tracks = pd.read_csv(tracks_file, delimiter='\\t')\n",
    "df_users= pd.read_csv(users_file, delimiter='\\t')"
   ]
  },
  {
   "cell_type": "markdown",
   "metadata": {},
   "source": [
    "### Mong đợi những gì ở dữ liệu ? <a class=\"anchor\" id=\"c31\"></a>"
   ]
  },
  {
   "cell_type": "code",
   "execution_count": null,
   "metadata": {},
   "outputs": [],
   "source": []
  },
  {
   "cell_type": "markdown",
   "metadata": {},
   "source": [
    "### Danh sách kiểm tra phân tích dữ liệu <a class=\"anchor\" id=\"c32\"></a>"
   ]
  },
  {
   "cell_type": "code",
   "execution_count": null,
   "metadata": {},
   "outputs": [],
   "source": []
  },
  {
   "cell_type": "markdown",
   "metadata": {},
   "source": [
    "### Trả lời những câu hỏi về bộ dữ liệu <a class=\"anchor\" id=\"c33\"></a>"
   ]
  },
  {
   "cell_type": "code",
   "execution_count": null,
   "metadata": {},
   "outputs": [],
   "source": []
  },
  {
   "cell_type": "markdown",
   "metadata": {},
   "source": [
    "### Xóa dữ liệu <a class=\"anchor\" id=\"c34\"></a>"
   ]
  },
  {
   "cell_type": "code",
   "execution_count": 4,
   "metadata": {},
   "outputs": [],
   "source": [
    "def get_object(file_name):\n",
    "    df = pd.read_csv(file_name, delimiter='\\t')\n",
    "    obj = {}\n",
    "    for column in df.columns:\n",
    "        obj.setdefault(column, df[column].values)\n",
    "    return obj"
   ]
  },
  {
   "cell_type": "code",
   "execution_count": 5,
   "metadata": {},
   "outputs": [],
   "source": [
    "def get_object_formatted(cols):\n",
    "    formatted_obj = {}\n",
    "    for key in cols.keys():\n",
    "        col_values = cols[key]\n",
    "        missing_values = [x for x in col_values if x == '' or (not isinstance(x, str) and math.isnan(x))]\n",
    "        values = [x for x in col_values if x != '' and not (not isinstance(x, str) and math.isnan(x))]\n",
    "        formatted_obj[key] = [len(missing_values)/len(col_values) * 100, len(set(values)), set(values)]\n",
    "    return formatted_obj"
   ]
  },
  {
   "cell_type": "code",
   "execution_count": 6,
   "metadata": {},
   "outputs": [],
   "source": [
    "def print_info(obj):\n",
    "    print(f\"{'ColName':20} {'Miss(%)':7} {'NumDifVals':10} {'SomeVals'}\")\n",
    "    for col_name, col_profile in obj.items():\n",
    "        print(f'{col_name:20} {col_profile[0]:<7.3f} {col_profile[1]:<10} {col_profile[2].__repr__()[:34]+\"...\":<}')"
   ]
  },
  {
   "cell_type": "markdown",
   "metadata": {},
   "source": [
    "### Dữ liệu có bị thiếu ? <a class=\"anchor\" id=\"c341\"></a>"
   ]
  },
  {
   "cell_type": "code",
   "execution_count": 7,
   "metadata": {},
   "outputs": [],
   "source": [
    "playlists_obj = get_object_formatted(get_object(playlists_file))\n",
    "tracks_obj = get_object_formatted(get_object(tracks_file))\n",
    "users_obj = get_object_formatted(get_object(users_file))"
   ]
  },
  {
   "cell_type": "code",
   "execution_count": 8,
   "metadata": {
    "scrolled": true
   },
   "outputs": [
    {
     "name": "stdout",
     "output_type": "stream",
     "text": [
      "ColName              Miss(%) NumDifVals SomeVals\n",
      "id                   0.000   2175       {52264968, 729101, 39485458, 10671...\n",
      "user_id              0.000   632        {7, 9, 11, 16, 17, 20, 21, 24, 25,...\n",
      "title                0.000   2082       {'lemarc', 'Special', 'Underground...\n",
      "created_at           0.000   2175       {'2014-02-20T20:05:22Z', '2015-09-...\n",
      "last_modified        0.000   2138       {'2013-02-28T04:44:09Z', '2017-02-...\n",
      "license              0.000   6          {'cc-by-nc', 'cc-by-nc-nd', 'cc-by...\n",
      "likes_count          0.000   194        {0, 1, 2, 3, 4, 5, 6, 7, 8, 9, 10,...\n",
      "permalink_url        0.000   2175       {'https://soundcloud.com/freeformf...\n",
      "public               0.000   1          {True}...\n",
      "purchase_url         1.195   428        {'http://bernhard-bockelbrink.band...\n",
      "reposts_count        0.000   75         {0, 1, 2, 3, 4, 5, 6, 7, 8, 9, 10,...\n",
      "secret_token         0.000   1          {'None'}...\n",
      "sharing              0.000   1          {'public'}...\n",
      "tag_list             62.207  748        {'\"Collective Process\" Volume \"Som...\n",
      "uri                  0.000   2175       {'https://api.soundcloud.com/playl...\n",
      "set_type             67.402  4          {'ep', 'single', 'album', 'compila...\n",
      "is_album             0.000   2          {False, True}...\n",
      "trackIds             7.908   1997       {'194984256,186980222,168139932,16...\n"
     ]
    }
   ],
   "source": [
    "print_info(playlists_obj)"
   ]
  },
  {
   "cell_type": "code",
   "execution_count": 9,
   "metadata": {},
   "outputs": [
    {
     "name": "stdout",
     "output_type": "stream",
     "text": [
      "ColName              Miss(%) NumDifVals SomeVals\n",
      "id                   0.000   10242      {336297989, 44204041, 1140686857, ...\n",
      "user_id              0.000   2768       {336748548, 19554314, 7184394, 258...\n",
      "title                0.000   10190      {'Grow Up [Produced By GLOhan Beat...\n",
      "description          17.874  6040       {'Remix, additional instruments & ...\n",
      "track_format         0.000   1          {'single-track'}...\n",
      "uri                  0.000   10242      {'https://api.soundcloud.com/track...\n",
      "caption              0.000   132        {'Jose Padilla (4.12.1955 - 18.10....\n",
      "comment_count        0.000   569        {'110', '173', '6', '790', '119', ...\n",
      "created_at           0.000   9765       {'2016-03-23T16:28:44Z', '2014-03-...\n",
      "duration             0.000   8435       {458752, 7372800, 327680, 98307, 0...\n",
      "genre                13.451  1973       {'Upstate', 'minimal techno', 'DJ ...\n",
      "last_modified        0.000   9107       {'2015-09-01T15:53:44Z', '2020-03-...\n",
      "license              0.000   8          {'cc-by-nc', 'cc-by-sa', 'cc-by-nc...\n",
      "likes_count          0.000   2380       {'1039', '173', '3292', '47506', '...\n",
      "permalink_url        0.000   10242      {'https://soundcloud.com/ruk/sixpi...\n",
      "playback_count       0.000   5879       {'14739', '173', '3292', '5844', '...\n",
      "reposts_count        0.000   1220       {0, 1, 2, 3, 4, 5, 6, 7, 8, 9, 10,...\n",
      "state                0.000   2          {'finished', 'processing'}...\n"
     ]
    }
   ],
   "source": [
    "print_info(tracks_obj)"
   ]
  },
  {
   "cell_type": "code",
   "execution_count": 10,
   "metadata": {},
   "outputs": [
    {
     "name": "stdout",
     "output_type": "stream",
     "text": [
      "ColName              Miss(%) NumDifVals SomeVals\n",
      "id                   0.000   1763       {1, 2, 6, 7, 8, 9, 10, 11, 12, 15,...\n",
      "username             0.000   1763       {'PETER KIRN', 'marko', 'rodrigo',...\n",
      "first_name           19.399  943        {'Stephan', 'R.', 'Degoba Records'...\n",
      "last_name            27.907  1198       {'Kaiser', 'Musicali', 'Ziff', 'Ny...\n",
      "full_name            18.945  1418       {'Lammin Jallow', 'Degoba Records'...\n",
      "city                 8.281   437        {'Turku', 'Vancouver', 'La Chaux-d...\n",
      "avatar_url           0.000   1409       {'https://i1.sndcdn.com/avatars-00...\n",
      "playlist_count       0.000   65         {0, 1, 2, 3, 4, 5, 6, 7, 8, 9, 10,...\n",
      "track_count          0.000   181        {0, 1, 2, 3, 4, 5, 6, 7, 8, 9, 515...\n",
      "description          16.846  785        {'Host of KLANGEXTASE (@klangextas...\n",
      "followers_count      0.000   961        {0, 2049, 1, 3, 4, 5, 6, 7, 8, 9, ...\n",
      "followings_count     0.000   523        {0, 1, 2, 3, 4, 5, 6, 7, 8, 9, 10,...\n",
      "groups_count         0.000   1          {0}...\n",
      "likes_count          0.000   369        {0, 1, 2, 3, 4, 5, 6, 7, 8, 9, 10,...\n",
      "comments_count       0.000   264        {0, 1, 2, 3, 4, 5, 6, 7, 8, 9, 10,...\n",
      "playlist_likes_count 0.000   95         {0, 1, 2, 3, 4, 5, 6, 7, 8, 9, 10,...\n",
      "last_modified        0.000   1636       {'2021-05-11T09:37:03Z', '2020-11-...\n",
      "created_at           0.000   1761       {'2007-11-21T10:41:24Z', '2008-02-...\n",
      "verified             0.000   2          {False, True}...\n"
     ]
    }
   ],
   "source": [
    "print_info(users_obj)"
   ]
  },
  {
   "cell_type": "markdown",
   "metadata": {},
   "source": [
    "### Kiểu dữ liệu <a class=\"anchor\" id=\"c342\"></a>"
   ]
  },
  {
   "cell_type": "code",
   "execution_count": 19,
   "metadata": {},
   "outputs": [
    {
     "data": {
      "text/plain": [
       "id                int64\n",
       "user_id           int64\n",
       "title            object\n",
       "created_at       object\n",
       "last_modified    object\n",
       "license          object\n",
       "likes_count       int64\n",
       "permalink_url    object\n",
       "public             bool\n",
       "purchase_url     object\n",
       "reposts_count     int64\n",
       "secret_token     object\n",
       "sharing          object\n",
       "tag_list         object\n",
       "uri              object\n",
       "set_type         object\n",
       "is_album           bool\n",
       "trackIds         object\n",
       "dtype: object"
      ]
     },
     "execution_count": 19,
     "metadata": {},
     "output_type": "execute_result"
    }
   ],
   "source": [
    "df_playlist.dtypes"
   ]
  },
  {
   "cell_type": "code",
   "execution_count": 18,
   "metadata": {},
   "outputs": [
    {
     "data": {
      "text/plain": [
       "id                 int64\n",
       "user_id            int64\n",
       "title             object\n",
       "description       object\n",
       "track_format      object\n",
       "uri               object\n",
       "caption           object\n",
       "comment_count      int64\n",
       "created_at        object\n",
       "duration           int64\n",
       "genre             object\n",
       "last_modified     object\n",
       "license           object\n",
       "likes_count        int64\n",
       "permalink_url     object\n",
       "playback_count     int64\n",
       "reposts_count      int64\n",
       "state             object\n",
       "dtype: object"
      ]
     },
     "execution_count": 18,
     "metadata": {},
     "output_type": "execute_result"
    }
   ],
   "source": [
    "df_tracks.dtypes"
   ]
  },
  {
   "cell_type": "code",
   "execution_count": 17,
   "metadata": {},
   "outputs": [
    {
     "data": {
      "text/plain": [
       "id                       int64\n",
       "username                object\n",
       "first_name              object\n",
       "last_name               object\n",
       "full_name               object\n",
       "city                    object\n",
       "avatar_url              object\n",
       "playlist_count           int64\n",
       "track_count              int64\n",
       "description             object\n",
       "followers_count          int64\n",
       "followings_count         int64\n",
       "groups_count             int64\n",
       "likes_count              int64\n",
       "comments_count           int64\n",
       "playlist_likes_count     int64\n",
       "last_modified           object\n",
       "created_at              object\n",
       "verified                  bool\n",
       "dtype: object"
      ]
     },
     "execution_count": 17,
     "metadata": {},
     "output_type": "execute_result"
    }
   ],
   "source": [
    "df_users.dtypes"
   ]
  },
  {
   "cell_type": "markdown",
   "metadata": {},
   "source": [
    "### Kiểm tra ngoại lệ <a class=\"anchor\" id=\"c343\"></a>"
   ]
  },
  {
   "cell_type": "code",
   "execution_count": null,
   "metadata": {},
   "outputs": [],
   "source": []
  },
  {
   "cell_type": "markdown",
   "metadata": {},
   "source": [
    "### Tiền xử lý dữ liệu <a class=\"anchor\" id=\"c344\"></a>"
   ]
  },
  {
   "cell_type": "code",
   "execution_count": 11,
   "metadata": {},
   "outputs": [],
   "source": [
    "def format_empty_vals(df):\n",
    "    for column in df.columns:\n",
    "        if 'count' in column:\n",
    "            df[column] = df[column].replace('None', 0)\n",
    "            df[column] = df[column].astype(str).astype(int)\n",
    "        else:\n",
    "            df[column] = df[column].replace(float('nan'), 'None')        "
   ]
  },
  {
   "cell_type": "code",
   "execution_count": 22,
   "metadata": {},
   "outputs": [],
   "source": [
    "format_empty_vals(df_playlist)\n",
    "format_empty_vals(df_tracks)\n",
    "format_empty_vals(df_users)"
   ]
  },
  {
   "cell_type": "markdown",
   "metadata": {},
   "source": [
    "### Phân tích khám phá <a class=\"anchor\" id=\"c35\"></a>"
   ]
  },
  {
   "cell_type": "code",
   "execution_count": 13,
   "metadata": {},
   "outputs": [],
   "source": [
    "# Huy\n"
   ]
  },
  {
   "cell_type": "code",
   "execution_count": 14,
   "metadata": {},
   "outputs": [],
   "source": [
    "# Thi\n"
   ]
  },
  {
   "cell_type": "code",
   "execution_count": 15,
   "metadata": {},
   "outputs": [],
   "source": [
    "# Tri\n"
   ]
  },
  {
   "cell_type": "code",
   "execution_count": 16,
   "metadata": {},
   "outputs": [],
   "source": [
    "# Giai\n"
   ]
  }
 ],
 "metadata": {
  "interpreter": {
   "hash": "b904ab8fb165b7bab7691c6e676e17e8de77589036e31c951fa422c87f57abe5"
  },
  "kernelspec": {
   "display_name": "Python 3 (ipykernel)",
   "language": "python",
   "name": "python3"
  },
  "language_info": {
   "codemirror_mode": {
    "name": "ipython",
    "version": 3
   },
   "file_extension": ".py",
   "mimetype": "text/x-python",
   "name": "python",
   "nbconvert_exporter": "python",
   "pygments_lexer": "ipython3",
   "version": "3.8.8"
  }
 },
 "nbformat": 4,
 "nbformat_minor": 2
}
