{
 "cells": [
  {
   "cell_type": "code",
   "execution_count": 72,
   "metadata": {},
   "outputs": [],
   "source": [
    "import pandas as pd\n",
    "import numpy as np\n",
    "import matplotlib.pyplot as plt"
   ]
  },
  {
   "cell_type": "code",
   "execution_count": 73,
   "metadata": {},
   "outputs": [],
   "source": [
    "# Read data\n",
    "df_playlist = pd.read_csv('./Api_data/playlists.csv', delimiter='\\t')\n",
    "df_tracks = pd.read_csv('./Api_data/tracks.csv', delimiter='\\t')\n",
    "df_users= pd.read_csv('./Api_data/users.csv', delimiter='\\t')"
   ]
  },
  {
   "cell_type": "code",
   "execution_count": 74,
   "metadata": {},
   "outputs": [
    {
     "name": "stdout",
     "output_type": "stream",
     "text": [
      "<class 'pandas.core.frame.DataFrame'>\n",
      "RangeIndex: 2175 entries, 0 to 2174\n",
      "Data columns (total 18 columns):\n",
      " #   Column         Non-Null Count  Dtype \n",
      "---  ------         --------------  ----- \n",
      " 0   id             2175 non-null   int64 \n",
      " 1   user_id        2175 non-null   int64 \n",
      " 2   title          2175 non-null   object\n",
      " 3   created_at     2175 non-null   object\n",
      " 4   last_modified  2175 non-null   object\n",
      " 5   license        2175 non-null   object\n",
      " 6   likes_count    2175 non-null   int64 \n",
      " 7   permalink_url  2175 non-null   object\n",
      " 8   public         2175 non-null   bool  \n",
      " 9   purchase_url   2149 non-null   object\n",
      " 10  reposts_count  2175 non-null   int64 \n",
      " 11  secret_token   2175 non-null   object\n",
      " 12  sharing        2175 non-null   object\n",
      " 13  tag_list       822 non-null    object\n",
      " 14  uri            2175 non-null   object\n",
      " 15  set_type       709 non-null    object\n",
      " 16  is_album       2175 non-null   bool  \n",
      " 17  trackIds       2003 non-null   object\n",
      "dtypes: bool(2), int64(4), object(12)\n",
      "memory usage: 276.2+ KB\n"
     ]
    }
   ],
   "source": [
    "df_playlist.info()"
   ]
  },
  {
   "cell_type": "code",
   "execution_count": 75,
   "metadata": {},
   "outputs": [
    {
     "name": "stdout",
     "output_type": "stream",
     "text": [
      "<class 'pandas.core.frame.DataFrame'>\n",
      "RangeIndex: 10854 entries, 0 to 10853\n",
      "Data columns (total 18 columns):\n",
      " #   Column          Non-Null Count  Dtype \n",
      "---  ------          --------------  ----- \n",
      " 0   id              10854 non-null  int64 \n",
      " 1   user_id         10854 non-null  int64 \n",
      " 2   title           10854 non-null  object\n",
      " 3   description     8914 non-null   object\n",
      " 4   track_format    10854 non-null  object\n",
      " 5   uri             10854 non-null  object\n",
      " 6   caption         10854 non-null  object\n",
      " 7   comment_count   10854 non-null  object\n",
      " 8   created_at      10854 non-null  object\n",
      " 9   duration        10854 non-null  int64 \n",
      " 10  genre           9394 non-null   object\n",
      " 11  last_modified   10854 non-null  object\n",
      " 12  license         10854 non-null  object\n",
      " 13  likes_count     10854 non-null  object\n",
      " 14  permalink_url   10854 non-null  object\n",
      " 15  playback_count  10854 non-null  object\n",
      " 16  reposts_count   10854 non-null  int64 \n",
      " 17  state           10854 non-null  object\n",
      "dtypes: int64(4), object(14)\n",
      "memory usage: 1.5+ MB\n"
     ]
    }
   ],
   "source": [
    "df_tracks.info()"
   ]
  },
  {
   "cell_type": "code",
   "execution_count": 76,
   "metadata": {},
   "outputs": [
    {
     "name": "stdout",
     "output_type": "stream",
     "text": [
      "<class 'pandas.core.frame.DataFrame'>\n",
      "RangeIndex: 1763 entries, 0 to 1762\n",
      "Data columns (total 19 columns):\n",
      " #   Column                Non-Null Count  Dtype \n",
      "---  ------                --------------  ----- \n",
      " 0   id                    1763 non-null   int64 \n",
      " 1   username              1763 non-null   object\n",
      " 2   first_name            1421 non-null   object\n",
      " 3   last_name             1271 non-null   object\n",
      " 4   full_name             1429 non-null   object\n",
      " 5   city                  1617 non-null   object\n",
      " 6   avatar_url            1763 non-null   object\n",
      " 7   playlist_count        1763 non-null   int64 \n",
      " 8   track_count           1763 non-null   int64 \n",
      " 9   description           1466 non-null   object\n",
      " 10  followers_count       1763 non-null   int64 \n",
      " 11  followings_count      1763 non-null   int64 \n",
      " 12  groups_count          1763 non-null   int64 \n",
      " 13  likes_count           1763 non-null   int64 \n",
      " 14  comments_count        1763 non-null   int64 \n",
      " 15  playlist_likes_count  1763 non-null   int64 \n",
      " 16  last_modified         1763 non-null   object\n",
      " 17  created_at            1763 non-null   object\n",
      " 18  verified              1763 non-null   bool  \n",
      "dtypes: bool(1), int64(9), object(9)\n",
      "memory usage: 249.8+ KB\n"
     ]
    }
   ],
   "source": [
    "df_users.info()"
   ]
  },
  {
   "cell_type": "code",
   "execution_count": 86,
   "metadata": {},
   "outputs": [],
   "source": [
    "def format_empty_vals(df):\n",
    "    for column in df.columns:\n",
    "        if 'count' in column:\n",
    "            df[column] = df[column].replace('None', 0)\n",
    "            df[column] = df[column].astype(str).astype(int)\n",
    "\n",
    "format_empty_vals(df_playlist)\n",
    "format_empty_vals(df_tracks)\n",
    "format_empty_vals(df_users)"
   ]
  }
 ],
 "metadata": {
  "interpreter": {
   "hash": "b904ab8fb165b7bab7691c6e676e17e8de77589036e31c951fa422c87f57abe5"
  },
  "kernelspec": {
   "display_name": "Python 3.8.8 64-bit ('min_ds-env': conda)",
   "language": "python",
   "name": "python3"
  },
  "language_info": {
   "codemirror_mode": {
    "name": "ipython",
    "version": 3
   },
   "file_extension": ".py",
   "mimetype": "text/x-python",
   "name": "python",
   "nbconvert_exporter": "python",
   "pygments_lexer": "ipython3",
   "version": "3.8.8"
  },
  "orig_nbformat": 4
 },
 "nbformat": 4,
 "nbformat_minor": 2
}
